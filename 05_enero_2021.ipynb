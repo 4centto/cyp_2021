{
  "nbformat": 4,
  "nbformat_minor": 0,
  "metadata": {
    "colab": {
      "name": "5_ene_2021.ipynb",
      "provenance": [],
      "authorship_tag": "ABX9TyMgS28/X5C1ERoC/Wb5Xhnh",
      "include_colab_link": true
    },
    "kernelspec": {
      "name": "python3",
      "display_name": "Python 3"
    }
  },
  "cells": [
    {
      "cell_type": "markdown",
      "metadata": {
        "id": "view-in-github",
        "colab_type": "text"
      },
      "source": [
        "<a href=\"https://colab.research.google.com/github/4centto/cyp_2021/blob/main/5_ene_2021.ipynb\" target=\"_parent\"><img src=\"https://colab.research.google.com/assets/colab-badge.svg\" alt=\"Open In Colab\"/></a>"
      ]
    },
    {
      "cell_type": "code",
      "metadata": {
        "colab": {
          "base_uri": "https://localhost:8080/",
          "height": 248
        },
        "id": "RzoxxeSejhsJ",
        "outputId": "9db0b7a9-5ab5-498c-e7bd-582b30dcec69"
      },
      "source": [
        "from random import randint\r\n",
        "\r\n",
        "#Llenarlo manualmente\r\n",
        "sueldos = [0.0 for i in range(7)]\r\n",
        "\r\n",
        "sueldos[0] = 12.3\r\n",
        "sueldos[1] = 13.4\r\n",
        "sueldos[2] = 35.6\r\n",
        "sueldos[3] = 78.5\r\n",
        "sueldos[4] = 10.2\r\n",
        "sueldos[5] = 14.8\r\n",
        "sueldos[6] = 12.3\r\n",
        "\r\n",
        "print(sueldos)\r\n",
        "\r\n",
        "#Para llenar un arreglo con un for\r\n",
        "for i in range(len(sueldos)):\r\n",
        "  sueldos[i] = i + 1.0\r\n",
        "\r\n",
        "print(sueldos)\r\n",
        "\r\n",
        "#Llenarlo de numeros aleatorios\r\n",
        "for i in range(len(sueldos)):\r\n",
        "  sueldos[i] = randint(5000, 10000)\r\n",
        "\r\n",
        "print(sueldos)\r\n",
        "\r\n",
        "#Automatizar el recorrido de los elementos del arreglo\r\n",
        "for i in range(7):\r\n",
        "  print(f\"El trabajador { int(i) + 1 } gana ${ sueldo[i] } \")\r\n"
      ],
      "execution_count": 15,
      "outputs": [
        {
          "output_type": "stream",
          "text": [
            "[12.3, 13.4, 35.6, 78.5, 10.2, 14.8, 12.3]\n",
            "[1.0, 2.0, 3.0, 4.0, 5.0, 6.0, 7.0]\n",
            "[6261, 9606, 8994, 5106, 5005, 9422, 9769]\n"
          ],
          "name": "stdout"
        },
        {
          "output_type": "error",
          "ename": "NameError",
          "evalue": "ignored",
          "traceback": [
            "\u001b[0;31m---------------------------------------------------------------------------\u001b[0m",
            "\u001b[0;31mNameError\u001b[0m                                 Traceback (most recent call last)",
            "\u001b[0;32m<ipython-input-15-7b2f95c95a29>\u001b[0m in \u001b[0;36m<module>\u001b[0;34m()\u001b[0m\n\u001b[1;32m     28\u001b[0m \u001b[0;31m#Automatizar el recorrido de los elementos del arreglo\u001b[0m\u001b[0;34m\u001b[0m\u001b[0;34m\u001b[0m\u001b[0;34m\u001b[0m\u001b[0m\n\u001b[1;32m     29\u001b[0m \u001b[0;32mfor\u001b[0m \u001b[0mi\u001b[0m \u001b[0;32min\u001b[0m \u001b[0mrange\u001b[0m\u001b[0;34m(\u001b[0m\u001b[0;36m7\u001b[0m\u001b[0;34m)\u001b[0m\u001b[0;34m:\u001b[0m\u001b[0;34m\u001b[0m\u001b[0;34m\u001b[0m\u001b[0m\n\u001b[0;32m---> 30\u001b[0;31m   \u001b[0mprint\u001b[0m\u001b[0;34m(\u001b[0m\u001b[0;34mf\"El trabajador { int(i) + 1 } gana ${ sueldo[i] } \"\u001b[0m\u001b[0;34m)\u001b[0m\u001b[0;34m\u001b[0m\u001b[0;34m\u001b[0m\u001b[0m\n\u001b[0m",
            "\u001b[0;31mNameError\u001b[0m: name 'sueldo' is not defined"
          ]
        }
      ]
    },
    {
      "cell_type": "code",
      "metadata": {
        "colab": {
          "base_uri": "https://localhost:8080/"
        },
        "id": "o5tobk79ouq0",
        "outputId": "6a3b33ef-4e64-45fd-e236-8fe4b4df291b"
      },
      "source": [
        "from random import randint\r\n",
        "\r\n",
        "#Problema 4.1\r\n",
        "sueldos = [0.0 for i in range(7)]\r\n",
        "promedio = 0\r\n",
        "sueldos_mayores = 0\r\n",
        "\r\n",
        "for i in range(len(sueldos)):\r\n",
        "  sueldos[i] = randint(5000, 10000)\r\n",
        "  print(\"Sueldo del trabajador \", (i + 1), \": \", sueldos[i])\r\n",
        "  promedio += sueldos[i]\r\n",
        "\r\n",
        "print()\r\n",
        "promedio = promedio / len(sueldos)\r\n",
        "print(\"Promedio = \", promedio)\r\n",
        "\r\n",
        "print()\r\n",
        "for i in range(len(sueldos)):\r\n",
        "  if sueldos[i] > promedio:\r\n",
        "    sueldos_mayores += 1\r\n",
        "    print(\"Trabajador \", (i + 1), \": $\", sueldos[i])\r\n",
        "\r\n",
        "print()\r\n",
        "\r\n",
        "print(sueldos_mayores, \" sueldos son mayores al promedio\")"
      ],
      "execution_count": 21,
      "outputs": [
        {
          "output_type": "stream",
          "text": [
            "Sueldo del trabajador  1 :  7301\n",
            "Sueldo del trabajador  2 :  9766\n",
            "Sueldo del trabajador  3 :  7440\n",
            "Sueldo del trabajador  4 :  7911\n",
            "Sueldo del trabajador  5 :  8757\n",
            "Sueldo del trabajador  6 :  7051\n",
            "Sueldo del trabajador  7 :  9115\n",
            "\n",
            "Promedio =  8191.571428571428\n",
            "\n",
            "Trabajador  2 : $ 9766\n",
            "Trabajador  5 : $ 8757\n",
            "Trabajador  7 : $ 9115\n",
            "\n",
            "3  sueldos son mayores al promedio\n"
          ],
          "name": "stdout"
        }
      ]
    },
    {
      "cell_type": "code",
      "metadata": {
        "colab": {
          "base_uri": "https://localhost:8080/"
        },
        "id": "rrpdrXzTsr9R",
        "outputId": "a6052f51-c6a6-4b61-fe43-5632e02ca517"
      },
      "source": [
        "#Hacer un programas que solicite 5 valores enteros psoitivos y una vez que se capturen, el programa determine los sig.\r\n",
        "#1.- Cual es el de mayor valor\r\n",
        "#2.- Cual es el menor\r\n",
        "#3.- cUAL ES EL PROMEDIO\r\n",
        "\r\n",
        "valores = [0 for i in range(5)]\r\n",
        "\r\n",
        "for i in range(len(valores)):\r\n",
        "  valores[i] = int(input(\"Dame un valor positivo: \"))\r\n",
        "\r\n",
        "mayor = 0\r\n",
        "menor = 1000000\r\n",
        "promedio = 0\r\n",
        "\r\n",
        "for i in range(len(valores)):\r\n",
        "  if valores[i] > mayor:\r\n",
        "    mayor = valores[i]\r\n",
        "  if valores[i] < menor:\r\n",
        "    menor = valores[i]\r\n",
        "\r\n",
        "  promedio += valores[i]\r\n",
        "\r\n",
        "print(\"El valor menor es: \", menor)\r\n",
        "print(\"El valor mayor es: \", mayor)\r\n",
        "\r\n",
        "promedio = promedio / len(valores)\r\n",
        "\r\n",
        "print(\"El promedio de los numero es: \", promedio)"
      ],
      "execution_count": 30,
      "outputs": [
        {
          "output_type": "stream",
          "text": [
            "Dame un valor positivo: 1\n",
            "Dame un valor positivo: 2\n",
            "Dame un valor positivo: 3\n",
            "Dame un valor positivo: 4\n",
            "Dame un valor positivo: 5\n",
            "El valor menor es:  1\n",
            "El valor mayor es:  5\n",
            "El promedio de los numero es:  3.0\n"
          ],
          "name": "stdout"
        }
      ]
    },
    {
      "cell_type": "code",
      "metadata": {
        "colab": {
          "base_uri": "https://localhost:8080/"
        },
        "id": "UrVh79ZNvp6W",
        "outputId": "5cde5110-4061-43c2-8859-7add54bcf4ee"
      },
      "source": [
        "#Problema 4.1\r\n",
        "vec = [0 for i in range(5)]\r\n",
        "ant = 0\r\n",
        "\r\n",
        "for i in range(len(vec)):\r\n",
        "  vec[i] = int(input(\"Dame un valor entero positivo: \"))\r\n",
        "\r\n",
        "print()\r\n",
        "print(vec)\r\n",
        "print()\r\n",
        "\r\n",
        "for i in range(len(vec)):\r\n",
        "  if vec[i] != ant:\r\n",
        "    print(vec[i])\r\n",
        "  \r\n",
        "  ant = vec[i]"
      ],
      "execution_count": 57,
      "outputs": [
        {
          "output_type": "stream",
          "text": [
            "Dame un valor entero positivo: 1\n",
            "Dame un valor entero positivo: 2\n",
            "Dame un valor entero positivo: 2\n",
            "Dame un valor entero positivo: 2\n",
            "Dame un valor entero positivo: 3\n",
            "\n",
            "[1, 2, 2, 2, 3]\n",
            "\n",
            "1\n",
            "2\n",
            "3\n"
          ],
          "name": "stdout"
        }
      ]
    },
    {
      "cell_type": "code",
      "metadata": {
        "colab": {
          "base_uri": "https://localhost:8080/"
        },
        "id": "S6hUJx0fy7eP",
        "outputId": "10545281-3e67-4338-e95f-253821757c32"
      },
      "source": [
        "#Problema 4.1\r\n",
        "N = int(input(\"Ingresa el numero de elementos del arreglo: \"))\r\n",
        "\r\n",
        "VEC = []\r\n",
        "if 1 <= N and N <= 500:\r\n",
        "\r\n",
        "  VEC = [0 for x in range(N)]\r\n",
        "\r\n",
        "  for i in range(N):\r\n",
        "    VEC[i] = int(input(\"Ingresa el valor: \"))\r\n",
        "\r\n",
        "  print(\"Lista de numeros sin repeticiones: \")\r\n",
        "\r\n",
        "  i = 0\r\n",
        "\r\n",
        "  while i < N:\r\n",
        "    print(VEC[i])\r\n",
        "    REPET = VEC[i]\r\n",
        "\r\n",
        "    while i < N and REPET == VEC[i]:\r\n",
        "      i = i + 1\r\n",
        "\r\n",
        "else:\r\n",
        "  print(\"El nomero de elementos del arreglo es incorrecto\")"
      ],
      "execution_count": 63,
      "outputs": [
        {
          "output_type": "stream",
          "text": [
            "Ingresa el numero de elementos del arreglo: 10\n",
            "Ingresa el valor: 12\n",
            "Ingresa el valor: 1\n",
            "Ingresa el valor: 23\n",
            "Ingresa el valor: 23\n",
            "Ingresa el valor: 1\n",
            "Ingresa el valor: 2\n",
            "Ingresa el valor: 34\n",
            "Ingresa el valor: 34\n",
            "Ingresa el valor: 2\n",
            "Ingresa el valor: 50\n",
            "Lista de numeros sin repeticiones: \n",
            "12\n",
            "1\n",
            "23\n",
            "1\n",
            "2\n",
            "34\n",
            "2\n",
            "50\n"
          ],
          "name": "stdout"
        }
      ]
    }
  ]
}

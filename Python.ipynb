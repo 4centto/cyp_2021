{
  "nbformat": 4,
  "nbformat_minor": 0,
  "metadata": {
    "colab": {
      "name": "Python.ipynb",
      "provenance": [],
      "authorship_tag": "ABX9TyMESATrD4RXP94ZwVcF7GVV",
      "include_colab_link": true
    },
    "kernelspec": {
      "name": "python3",
      "display_name": "Python 3"
    }
  },
  "cells": [
    {
      "cell_type": "markdown",
      "metadata": {
        "id": "view-in-github",
        "colab_type": "text"
      },
      "source": [
        "<a href=\"https://colab.research.google.com/github/4centto/cyp_2021/blob/main/Python.ipynb\" target=\"_parent\"><img src=\"https://colab.research.google.com/assets/colab-badge.svg\" alt=\"Open In Colab\"/></a>"
      ]
    },
    {
      "cell_type": "markdown",
      "metadata": {
        "id": "BqPvyp5frXZi"
      },
      "source": [
        "**Introduccion a 'Python'**  \r\n",
        "-Lenaguaje creado en los 90's por el ingeniero Guido Van R. con la finalidad de realizar un lenguaje de programacion que fueramas sencillo de aprender \r\n",
        "y de usar, en el 2000 Python mejora y tiene nuevas caracteristicas \r\n",
        "-A partir de la version 3 solo se dará soporte\r\n",
        "\r\n",
        "**Caracteristicas:**\r\n",
        "1. Lenguaje de proposito general (Videojuegos, computo, etc.)\r\n",
        "2. Lenguaje interpretado y no compilado\r\n",
        "3. Tipos de datos dinamicos (Numericos, cadena, booleanos, etc.)\r\n",
        "4. Multiplataforma (Se puede usar en diferentes S.O.)\r\n",
        "5. Lenguaje multi-paradigma (Imperativa, Programacion Orientada a objetos,     Funcional)\r\n",
        "6. El codigo es estructurado por indentacion\r\n",
        "7. Esta dirigido por los principios Zen\r\n",
        "\r\n",
        "**Principios Zen de Python:**\r\n",
        " - Son las caracteristicas que rigen al modo de presentacion y/o programacion en python"
      ]
    },
    {
      "cell_type": "code",
      "metadata": {
        "colab": {
          "base_uri": "https://localhost:8080/"
        },
        "id": "2Rte5j8nuqRa",
        "outputId": "7e5955ab-a905-4dfb-8740-fa13e7000a8b"
      },
      "source": [
        "nombre = \"José\"\r\n",
        "edad = 18\r\n",
        "print(\"Hola\", nombre, edad)\r\n",
        "# Nombre: Jose, con una edad de: 18 años.\r\n",
        "print(\"Nombre: \" + nombre + \" con una edad de: \" + str(edad) + \" años.\")\r\n",
        "#Con format\r\n",
        "print(\"Nombre: {} con una edad de: {} años.\".format(nombre, edad))\r\n",
        "#Con el operador f\r\n",
        "print(f\"Nombre: {nombre} con una edad de: {edad} años.\")"
      ],
      "execution_count": 22,
      "outputs": [
        {
          "output_type": "stream",
          "text": [
            "Hola José 18\n",
            "Nombre: José con una edad de: 18 años.\n",
            "Nombre: José con una edad de: 18 años.\n",
            "Nombre: José con una edad de: 18 años.\n"
          ],
          "name": "stdout"
        }
      ]
    },
    {
      "cell_type": "markdown",
      "metadata": {
        "id": "mOUaME1nvnSc"
      },
      "source": [
        "# La funcion print()\r\n",
        "- Es una de las funciones mas empleadas en programacion y busca enviar datos a la salida estandar (Monitor)\r\n",
        "- Tiene cuatro variantes de formas de uso:\r\n",
        "1. Con comas ,\r\n",
        "2. Con signos +\r\n",
        "3. Con .format()\r\n",
        "4. Con el operador f\r\n",
        "\r\n",
        "####Con comas:\r\n",
        "- Concatena los documentos enviados a print y les agrega un espacio\r\n",
        "\r\n",
        "####Con signos +:\r\n",
        "- Concatena los valores, sin espacios y sin hacer conversion de tipos\r\n",
        "\r\n",
        "####Con .format():\r\n",
        "- Permite dar formato en la salida de la impresion de variables; Emplea la funcion format con el tipo de dato string.\r\n",
        "- Emplea como comodines para sustitur los valores 'Llaves'\r\n",
        "\r\n",
        "####Con el operador f\"\":\r\n",
        "- Es una variante de la forma anterior pero en mascarando la funcion format()."
      ]
    },
    {
      "cell_type": "markdown",
      "metadata": {
        "id": "NB4WtaCK2Kd-"
      },
      "source": [
        "#**Funcion print y los caracteres de escape**\r\n",
        "\r\n",
        "- Salto de linea(\\n)\r\n",
        "- Tabulador (\\t)\r\n",
        "- Imprimir la diagonal (\\\\)\r\n",
        "- \\' y \\\"\r\n",
        "- \\uxxxx Imprimir unicode de 4\r\n",
        "- \\uxxxxxxxx Imprimir unicode de 8\r\n",
        "\r\n",
        "#**Print y su salto de linea:**\r\n",
        "\r\n",
        "- El print por defecto siempre contiene un salto de linea"
      ]
    },
    {
      "cell_type": "code",
      "metadata": {
        "colab": {
          "base_uri": "https://localhost:8080/"
        },
        "id": "U5NbMhtl3AH5",
        "outputId": "68ec83fd-3f5f-4f3d-a96c-d464c8571c86"
      },
      "source": [
        "print(\"\\\"\")\r\n",
        "print(\"Nombre: José \\n\\tCon una edad de: 18 años\")\r\n",
        "\r\n",
        "#Caracteres unicode\r\n",
        "print(\"Hola \\u2661\") \r\n",
        "print(\"Hola \\u553F\")\r\n",
        "print(\"Hola \\u2618\")\r\n",
        "\r\n",
        "#Salto de linea\r\n",
        "print(\"Hola \", end=\"\\n\")\r\n",
        "\r\n",
        "#Sin salto de linea\r\n",
        "print(\"Hola \", end=\" \")"
      ],
      "execution_count": 35,
      "outputs": [
        {
          "output_type": "stream",
          "text": [
            "\"\n",
            "Nombre: José \n",
            "\tCon una edad de: 18 años\n",
            "Hola ♡\n",
            "Hola 唿\n",
            "Hola ☘\n"
          ],
          "name": "stdout"
        }
      ]
    },
    {
      "cell_type": "markdown",
      "metadata": {
        "id": "qLTzCmOX9guH"
      },
      "source": [
        "#**Comentarios en Python:**\r\n",
        "\r\n",
        "- Un comentario en programacion, es un texto especioal que es ignorado por el interprete o compilador (Segun sea el caso del lenguaje) para que el programador documente sus algoritmos, existen de dos tipos, linea simple y multilinea.\r\n",
        "\r\n",
        "- En python para linea simple se emplea '#' y para linea multiple           ' \"\"\" hola \"\"\" '"
      ]
    }
  ]
}
{
  "nbformat": 4,
  "nbformat_minor": 0,
  "metadata": {
    "colab": {
      "name": "19_ene_cyp.ipynb",
      "provenance": [],
      "authorship_tag": "ABX9TyNE89Q7CSG8WXH9Gsiwtnz/",
      "include_colab_link": true
    },
    "kernelspec": {
      "name": "python3",
      "display_name": "Python 3"
    }
  },
  "cells": [
    {
      "cell_type": "markdown",
      "metadata": {
        "id": "view-in-github",
        "colab_type": "text"
      },
      "source": [
        "<a href=\"https://colab.research.google.com/github/4centto/cyp_2021/blob/main/19_ene_cyp.ipynb\" target=\"_parent\"><img src=\"https://colab.research.google.com/assets/colab-badge.svg\" alt=\"Open In Colab\"/></a>"
      ]
    },
    {
      "cell_type": "markdown",
      "metadata": {
        "id": "bH5HRo8FrD3o"
      },
      "source": [
        "**#Slicing (continuacion):**\r\n",
        "\r\n",
        "[inicio : stop: incremento]\r\n",
        "\r\n",
        "Nota: \r\n",
        " - El stop no es incuido\r\n",
        " - El incremento se puede modificar\r\n",
        " - Soporta indexado alternativo (Negativo)"
      ]
    },
    {
      "cell_type": "code",
      "metadata": {
        "colab": {
          "base_uri": "https://localhost:8080/"
        },
        "id": "p4Bmb-nprdFh",
        "outputId": "b22c8a8d-e7a8-4868-a4dd-6fda486cec51"
      },
      "source": [
        "frase = \"¿Como hacer a la gente mas positiva? Muy facil, has que pierdan un electron\"\r\n",
        "print(frase)\r\n",
        "\r\n",
        "#Imprimir \"ace\" de la palabra hacer\r\n",
        "print(frase[7:10:1])\r\n",
        "\r\n",
        "#Valores por defecto\r\n",
        "print(frase[:5:2])\r\n",
        "\r\n",
        "#Incremento\r\n",
        "print(frase[-1::-1]) # Inverso -77"
      ],
      "execution_count": 9,
      "outputs": [
        {
          "output_type": "stream",
          "text": [
            "¿Como hacer a la gente mas positiva? Muy facil, has que pierdan un electron\n",
            "ace\n",
            "¿oo\n",
            "nortcele nu nadreip euq sah ,licaf yuM ?avitisop sam etneg al a recah omoC¿\n"
          ],
          "name": "stdout"
        }
      ]
    },
    {
      "cell_type": "markdown",
      "metadata": {
        "id": "iLwVh7ajxVPc"
      },
      "source": [
        "#**Metodos de la clase str:**\r\n",
        "\r\n",
        "En python, todo es un objeto ( P.O.O ), eso significa que cada tipo de dato trae consigo metodos (Funciones) incluidas. Para indentid¿ficar los metodos disponibles, se puede usar una de dos funciones:\r\n",
        "\r\n",
        "- dir ( str ): Resumen los metodos de esa clase\r\n",
        "- help ( str ): Informacion completa de los metodos de esa clase"
      ]
    },
    {
      "cell_type": "code",
      "metadata": {
        "colab": {
          "base_uri": "https://localhost:8080/"
        },
        "id": "LEg_YSRNyOiA",
        "outputId": "10e20921-b797-4348-a7dd-b5cb728715c4"
      },
      "source": [
        "nombre = \"Juan Jose\"\r\n",
        "\r\n",
        "print(nombre)\r\n",
        "print(dir(str))"
      ],
      "execution_count": 14,
      "outputs": [
        {
          "output_type": "stream",
          "text": [
            "<built-in method capitalize of str object at 0x7f57da34fd30>\n",
            "['__add__', '__class__', '__contains__', '__delattr__', '__dir__', '__doc__', '__eq__', '__format__', '__ge__', '__getattribute__', '__getitem__', '__getnewargs__', '__gt__', '__hash__', '__init__', '__init_subclass__', '__iter__', '__le__', '__len__', '__lt__', '__mod__', '__mul__', '__ne__', '__new__', '__reduce__', '__reduce_ex__', '__repr__', '__rmod__', '__rmul__', '__setattr__', '__sizeof__', '__str__', '__subclasshook__', 'capitalize', 'casefold', 'center', 'count', 'encode', 'endswith', 'expandtabs', 'find', 'format', 'format_map', 'index', 'isalnum', 'isalpha', 'isdecimal', 'isdigit', 'isidentifier', 'islower', 'isnumeric', 'isprintable', 'isspace', 'istitle', 'isupper', 'join', 'ljust', 'lower', 'lstrip', 'maketrans', 'partition', 'replace', 'rfind', 'rindex', 'rjust', 'rpartition', 'rsplit', 'rstrip', 'split', 'splitlines', 'startswith', 'strip', 'swapcase', 'title', 'translate', 'upper', 'zfill']\n"
          ],
          "name": "stdout"
        }
      ]
    },
    {
      "cell_type": "markdown",
      "metadata": {
        "id": "nthe-j07ytg3"
      },
      "source": [
        "Los nombres de metodos que inician con doble guion bajo, significa que son metodos privados ( P.O.O ), y no tendrias porque usarlos como programador.\r\n",
        "\r\n",
        "Los demas metodos, son publicos y ademas son de libre uso."
      ]
    },
    {
      "cell_type": "code",
      "metadata": {
        "colab": {
          "base_uri": "https://localhost:8080/"
        },
        "id": "4T6oXV9szd-M",
        "outputId": "a2f21ee9-b429-458d-d7bb-dce50d9bfaa6"
      },
      "source": [
        "print(nombre.islower())\r\n",
        "nombre = \"PEDRO FERNANDEZ\"\r\n",
        "print(nombre.capitalize())\r\n",
        "print(nombre.endswith(\"DEZ\"))\r\n",
        "print(nombre.replace(\"ED\", \"**\"))\r\n",
        "\r\n",
        "print(nombre.count(\"PEDRO\"))"
      ],
      "execution_count": 25,
      "outputs": [
        {
          "output_type": "stream",
          "text": [
            "False\n",
            "Pedro fernandez\n",
            "True\n",
            "P**RO FERNANDEZ\n",
            "1\n"
          ],
          "name": "stdout"
        }
      ]
    },
    {
      "cell_type": "code",
      "metadata": {
        "id": "WF-kuJ0Xz5jJ"
      },
      "source": [
        "print( help(str) )"
      ],
      "execution_count": null,
      "outputs": []
    },
    {
      "cell_type": "code",
      "metadata": {
        "colab": {
          "base_uri": "https://localhost:8080/"
        },
        "id": "D2Ph6Uwf5C6J",
        "outputId": "aac60c4e-83f5-4ed6-abdd-6a104ee42ea8"
      },
      "source": [
        "#Metodos para procesar strings\r\n",
        "numeros = \"  2  ,  3 , 4,    5    , 45  , 7          \"\r\n",
        "\r\n",
        "print(numeros)\r\n",
        "\r\n",
        "#Como extraigo los numeros de la cadena\r\n",
        "# 1. Eliminar los espacios al principio y al final con strip()\r\n",
        "\r\n",
        "numeros = numeros.strip()\r\n",
        "print(numeros)\r\n",
        "\r\n",
        "print(help(str.strip))\r\n",
        "\r\n",
        "#2. Separar por comas\r\n",
        "numeros = numeros.split(\",\")\r\n",
        "print(numeros)\r\n",
        "\r\n",
        "for i in range(len(numeros)):\r\n",
        "  numeros[i] = numeros[i].strip()\r\n",
        "\r\n",
        "print(numeros)\r\n",
        "\r\n",
        "#4. Convertir a entero\r\n",
        "for i in range(len(numeros)):\r\n",
        "  numeros[i] = int(numeros[i])\r\n",
        "\r\n",
        "#5. Usar los numeros\r\n",
        "print(sum(numeros))"
      ],
      "execution_count": 33,
      "outputs": [
        {
          "output_type": "stream",
          "text": [
            "  2  ,  3 , 4,    5    , 45  , 7          \n",
            "2  ,  3 , 4,    5    , 45  , 7\n",
            "Help on method_descriptor:\n",
            "\n",
            "strip(...)\n",
            "    S.strip([chars]) -> str\n",
            "    \n",
            "    Return a copy of the string S with leading and trailing\n",
            "    whitespace removed.\n",
            "    If chars is given and not None, remove characters in chars instead.\n",
            "\n",
            "None\n",
            "['2  ', '  3 ', ' 4', '    5    ', ' 45  ', ' 7']\n",
            "['2', '3', '4', '5', '45', '7']\n",
            "66\n"
          ],
          "name": "stdout"
        }
      ]
    }
  ]
}
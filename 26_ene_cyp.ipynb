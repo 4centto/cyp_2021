{
  "nbformat": 4,
  "nbformat_minor": 0,
  "metadata": {
    "colab": {
      "name": "26_ene_cyp.ipynb",
      "provenance": [],
      "authorship_tag": "ABX9TyNw8WnNVuxGOZWKA5L3py4E",
      "include_colab_link": true
    },
    "kernelspec": {
      "name": "python3",
      "display_name": "Python 3"
    }
  },
  "cells": [
    {
      "cell_type": "markdown",
      "metadata": {
        "id": "view-in-github",
        "colab_type": "text"
      },
      "source": [
        "<a href=\"https://colab.research.google.com/github/4centto/cyp_2021/blob/main/26_ene_cyp.ipynb\" target=\"_parent\"><img src=\"https://colab.research.google.com/assets/colab-badge.svg\" alt=\"Open In Colab\"/></a>"
      ]
    },
    {
      "cell_type": "markdown",
      "metadata": {
        "id": "vOTuY39itaS_"
      },
      "source": [
        "#**Listas de Python**\r\n",
        "\r\n",
        "Una lista es una estructura de datos lineal de 0 o n elementos.\r\n",
        " - \"Equivalente\" a los arreglos.\r\n",
        " - Pueden ser de diferentes tipos de datos [1, \"Nombre, true, 1.5\"].\r\n",
        " - Pueden ser anidados.\r\n",
        " - Su selector es de la forma [ int ]\r\n",
        " - Son mutables, es decir: Se pueden modificar de todas las formas.\r\n"
      ]
    },
    {
      "cell_type": "code",
      "metadata": {
        "colab": {
          "base_uri": "https://localhost:8080/"
        },
        "id": "qspza4c1u_Dq",
        "outputId": "51fe6289-98bb-4e2b-d279-94dea3188dec"
      },
      "source": [
        "#Ejemplos \r\n",
        "numeros = [4, 5, 6, 7, 8, 23]\r\n",
        "\r\n",
        "print(numeros)\r\n",
        "print(numeros[2])\r\n",
        "\r\n",
        "# Una lista de 0 elementos\r\n",
        "colores = [] # list()\r\n",
        "type(colores) # Averiguar que tipo de dato es una variable con la funcion type\r\n",
        "dias = list()\r\n",
        "print(colores)\r\n",
        "print(dias)"
      ],
      "execution_count": 6,
      "outputs": [
        {
          "output_type": "stream",
          "text": [
            "[4, 5, 6, 7, 8, 23]\n",
            "6\n",
            "[]\n",
            "[]\n"
          ],
          "name": "stdout"
        }
      ]
    },
    {
      "cell_type": "code",
      "metadata": {
        "id": "OURlaMfZwWYb"
      },
      "source": [
        "#Pueden ser de diferentes tipos de datos\r\n",
        "\r\n",
        "mi_lista = [1, 2, 3, \"Jose\", False, 1.6, [1134567564, 2456576785432, 345643243546]]\r\n",
        "\r\n",
        "print(mi_lista)\r\n",
        "print(mi_lista[5])\r\n",
        "print(mi_lista[3][-1])\r\n",
        "print(mi_lista[3][-1:-5:-1])"
      ],
      "execution_count": null,
      "outputs": []
    },
    {
      "cell_type": "code",
      "metadata": {
        "colab": {
          "base_uri": "https://localhost:8080/"
        },
        "id": "CdGIbJpQ0TzP",
        "outputId": "66e5e661-31bb-41d4-dfec-09458fabfc36"
      },
      "source": [
        "frutas = [\"Melón\", \"Sandía\", \"Kiwi\", \"Aguacate\", \"Mango\", \"Plátano\"]\r\n",
        "print(frutas)\r\n",
        "frutas[0] = \"Melón\"\r\n",
        "print(frutas)\r\n",
        "\r\n",
        "frutas[1] = frutas[1].capitalize()\r\n",
        "print(frutas)\r\n"
      ],
      "execution_count": 33,
      "outputs": [
        {
          "output_type": "stream",
          "text": [
            "['melon', 'Sandía', 'Kiwi', 'Aguacate', 'Mango', 'Plátano']\n",
            "['Melón', 'Sandía', 'Kiwi', 'Aguacate', 'Mango', 'Plátano']\n",
            "['Melón', 'Sandía', 'Kiwi', 'Aguacate', 'Mango', 'Plátano']\n"
          ],
          "name": "stdout"
        }
      ]
    },
    {
      "cell_type": "code",
      "metadata": {
        "colab": {
          "base_uri": "https://localhost:8080/"
        },
        "id": "OKj6nWVC2W1q",
        "outputId": "914b62dc-8640-4bd0-da9f-9a2013cc44cd"
      },
      "source": [
        "frutas = [\"Melón\", \"Sandía\", \"Kiwi\", \"Aguacate\", \"Mango\", \"Plátano\"]\r\n",
        "\r\n",
        "#Insertar\r\n",
        "frutas.append(\"Fresa\")\r\n",
        "print(frutas)\r\n",
        "\r\n",
        "#Ejemplos de copias\r\n",
        "otras_frutas = frutas.copy()\r\n",
        "print(otras_frutas)\r\n",
        "\r\n",
        "#Limpiar\r\n",
        "frutas.clear()\r\n",
        "print(frutas)\r\n",
        "\r\n",
        "#Agregar objetos de un arreglo a otro\r\n",
        "colores = [\"Rojo\", \"Azul\", \"Amarillo\"]\r\n",
        "otras_frutas.extend(colores)\r\n",
        "print(otras_frutas)\r\n",
        "\r\n",
        "#Insertar elementos insert()\r\n",
        "otras_frutas.insert(3, \"Limon\")\r\n",
        "print(otras_frutas)\r\n",
        "\r\n",
        "#Metodo remove\r\n",
        "otras_frutas.remove(\"Limon\") # Una forma\r\n",
        "del otras_frutas[2] # Operador de listas\r\n",
        "print(otras_frutas)"
      ],
      "execution_count": 56,
      "outputs": [
        {
          "output_type": "stream",
          "text": [
            "['Melón', 'Sandía', 'Kiwi', 'Aguacate', 'Mango', 'Plátano', 'Fresa']\n",
            "['Melón', 'Sandía', 'Kiwi', 'Aguacate', 'Mango', 'Plátano', 'Fresa']\n",
            "[]\n",
            "['Melón', 'Sandía', 'Kiwi', 'Aguacate', 'Mango', 'Plátano', 'Fresa', 'Rojo', 'Azul', 'Amarillo']\n",
            "['Melón', 'Sandía', 'Kiwi', 'Limon', 'Aguacate', 'Mango', 'Plátano', 'Fresa', 'Rojo', 'Azul', 'Amarillo']\n",
            "['Melón', 'Sandía', 'Aguacate', 'Mango', 'Plátano', 'Fresa', 'Rojo', 'Azul', 'Amarillo']\n"
          ],
          "name": "stdout"
        }
      ]
    },
    {
      "cell_type": "code",
      "metadata": {
        "colab": {
          "base_uri": "https://localhost:8080/"
        },
        "id": "OGjRbn0xFLd_",
        "outputId": "f9a6fa9b-b553-4212-91d4-7d907fc68c91"
      },
      "source": [
        "#Slicing sobre listas\r\n",
        "frutas = [\"Melón\", \"Sandía\", \"Kiwi\", \"Aguacate\", \"Mango\", \"Plátano\"]\r\n",
        "\r\n",
        "print(frutas[1:4:])\r\n",
        "\r\n",
        "sistemas_Operativos = [\"Windows\", \"MacOS\", \"Linux\", \"Android\"]\r\n",
        "autos = [\"Ford\", \"Mazda\", \"Honda\"]\r\n",
        "\r\n",
        "cosas = [sistemas_Operativos, autos]\r\n",
        "print(cosas)"
      ],
      "execution_count": 60,
      "outputs": [
        {
          "output_type": "stream",
          "text": [
            "['Sandía', 'Kiwi', 'Aguacate']\n",
            "[['Windows', 'MacOS', 'Linux', 'Android'], ['Ford', 'Mazda', 'Honda']]\n"
          ],
          "name": "stdout"
        }
      ]
    }
  ]
}
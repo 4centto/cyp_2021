{
  "nbformat": 4,
  "nbformat_minor": 0,
  "metadata": {
    "colab": {
      "name": "Tarea3_cyp.ipynb",
      "provenance": [],
      "authorship_tag": "ABX9TyPbCwEVBM3k53plACa807mW",
      "include_colab_link": true
    },
    "kernelspec": {
      "name": "python3",
      "display_name": "Python 3"
    }
  },
  "cells": [
    {
      "cell_type": "markdown",
      "metadata": {
        "id": "view-in-github",
        "colab_type": "text"
      },
      "source": [
        "<a href=\"https://colab.research.google.com/github/4centto/cyp_2021/blob/main/Tarea3_cyp.ipynb\" target=\"_parent\"><img src=\"https://colab.research.google.com/assets/colab-badge.svg\" alt=\"Open In Colab\"/></a>"
      ]
    },
    {
      "cell_type": "code",
      "metadata": {
        "colab": {
          "base_uri": "https://localhost:8080/"
        },
        "id": "fO7-m1xH-Pbd",
        "outputId": "8fafa4cb-39a7-4b7f-e398-57f5faff21dc"
      },
      "source": [
        "#Ejericio 1.1\n",
        "PRECIO = 0\n",
        "PAGO = 0\n",
        "CAMBIO = 0\n",
        "\n",
        "PRECIO = float(input(\"Cuanto cuesta el producto: $\"))\n",
        "PAGO = float(input(\"Cuanto pago el cliente: $\"))\n",
        "\n",
        "if PRECIO < PAGO:\n",
        "\n",
        "  CAMBIO = PAGO - PRECIO\n",
        "  print(\"El cambio total es: $\", CAMBIO)\n",
        "\n",
        "else:\n",
        "\n",
        "  print(\"No alcanza el dinero del Cliente\")"
      ],
      "execution_count": 3,
      "outputs": [
        {
          "output_type": "stream",
          "text": [
            "Cuanto cuesta el producto: $12\n",
            "Cuanto pago el cliente: $15\n",
            "El cambio total es:  3.0\n"
          ],
          "name": "stdout"
        }
      ]
    },
    {
      "cell_type": "code",
      "metadata": {
        "colab": {
          "base_uri": "https://localhost:8080/"
        },
        "id": "kVxdu9jW_02u",
        "outputId": "71892657-f848-4912-acf7-8f5e2d2dd2c0"
      },
      "source": [
        "#Ejercicio 1.2\n",
        "BASE = 0\n",
        "ALTURA = 0\n",
        "AREA = 0\n",
        "\n",
        "BASE = float(input(\"Cual es el valor de la base: \"))\n",
        "ALTURA = float(input(\"Cual es el valor de la altura: \"))\n",
        "\n",
        "AREA = (BASE * ALTURA) / 2\n",
        "\n",
        "print(\"El area del triangulo es: \", AREA)\n"
      ],
      "execution_count": 5,
      "outputs": [
        {
          "output_type": "stream",
          "text": [
            "Cual es el valor de la base: 2\n",
            "Cual es el valor de la altura: 2\n",
            "El area del triangulo es:  2.0\n"
          ],
          "name": "stdout"
        }
      ]
    },
    {
      "cell_type": "code",
      "metadata": {
        "colab": {
          "base_uri": "https://localhost:8080/"
        },
        "id": "YmOOinUHAae9",
        "outputId": "a96bd816-4312-4e8e-f224-0cc9ccb290b0"
      },
      "source": [
        "#Ejercicio 1.3\n",
        "NOM = 0\n",
        "PES = 0\n",
        "LON = 0\n",
        "\n",
        "NOM = input(\"Cual es el nombre del dinosaurio: \")\n",
        "PES = float(input(\"Cual es el peso en libras de: \"))\n",
        "LON = float(input(\"Cual es su longitud en pies: \"))\n",
        "\n",
        "PES = PES * 1000\n",
        "LON = LON * 0.3047\n",
        "\n",
        "print(\"El \", NOM, \" pesa \", PES, \"kg y mide \", LON, \"m\")"
      ],
      "execution_count": 6,
      "outputs": [
        {
          "output_type": "stream",
          "text": [
            "Cual es el nombre del dinosaurio: Plateosaurus\n",
            "Cual es el peso en libras de: 5\n",
            "Cual es su longitud en pies: 30\n",
            "El  Plateosaurus  pesa  5000.0 kg y mide  9.141 m\n"
          ],
          "name": "stdout"
        }
      ]
    },
    {
      "cell_type": "code",
      "metadata": {
        "colab": {
          "base_uri": "https://localhost:8080/"
        },
        "id": "c7arCDOfBXqJ",
        "outputId": "2f47c886-0003-43b7-9f7a-46441277cbdd"
      },
      "source": [
        "#Ejercicio 1.4\n",
        "GAL = 0\n",
        "TOTAL = 0\n",
        "\n",
        "GAL = float(input(\"Cuantos galones compro el cliente: \"))\n",
        "\n",
        "TOTAL = GAL * 3.785 * 8.20\n",
        "\n",
        "print(\"TOTAL: \", round(TOTAL, 2))"
      ],
      "execution_count": 9,
      "outputs": [
        {
          "output_type": "stream",
          "text": [
            "Cuantos galones compro el cliente: 10.38\n",
            "TOTAL:  322.16\n"
          ],
          "name": "stdout"
        }
      ]
    },
    {
      "cell_type": "code",
      "metadata": {
        "colab": {
          "base_uri": "https://localhost:8080/"
        },
        "id": "EhYT0Q_ZCFPQ",
        "outputId": "30f3415f-118a-411c-f29c-c97392539215"
      },
      "source": [
        "#Ejercicio 1.5\n",
        "RAD = 0\n",
        "ALT = 0\n",
        "AREA = 0\n",
        "VOL = 0\n",
        "\n",
        "RAD = float(input(\"¿Cual es el radio del cilindro? \"))\n",
        "ALT = float(input(\"¿Cual es la altura del cilindro? \"))\n",
        "\n",
        "AREA = 2 * 3.141592 * RAD * ALT\n",
        "VOL = 3.141592 * (RAD ** 2) * ALT\n",
        "\n",
        "print(\"\")\n",
        "print(\"Area = \", round(AREA, 2))\n",
        "print(\"Volumen = \", round(VOL, 2))"
      ],
      "execution_count": 12,
      "outputs": [
        {
          "output_type": "stream",
          "text": [
            "¿Cual es el radio del cilindro? 2\n",
            "¿Cual es la altura del cilindro? 14\n",
            "\n",
            "Area =  175.93\n",
            "Volumen =  175.93\n"
          ],
          "name": "stdout"
        }
      ]
    },
    {
      "cell_type": "code",
      "metadata": {
        "colab": {
          "base_uri": "https://localhost:8080/"
        },
        "id": "sRt2ckEJDRpQ",
        "outputId": "285f896c-d599-4d02-a4ae-3a35faf671f7"
      },
      "source": [
        "#Ejercicio 1.6\n",
        "DIAS = 0\n",
        "SEG = 0\n",
        "\n",
        "DIAS = int(input(\"Dame el valor de los dias enteros: \"))\n",
        "\n",
        "SEG = DIAS * 24 * 60 * 60\n",
        "\n",
        "print(\"\")\n",
        "print(\"Hay \", SEG, \" en \", DIAS, \" dias\")"
      ],
      "execution_count": 14,
      "outputs": [
        {
          "output_type": "stream",
          "text": [
            "Dame el valor de los dias enteros: 7\n",
            "\n",
            "Hay  604800  en  7  dias\n"
          ],
          "name": "stdout"
        }
      ]
    }
  ]
}
{
  "nbformat": 4,
  "nbformat_minor": 0,
  "metadata": {
    "colab": {
      "name": "26_nov_cyp.ipynb",
      "provenance": [],
      "authorship_tag": "ABX9TyPHCRJMSLUOLy4UqV0OCskc",
      "include_colab_link": true
    },
    "kernelspec": {
      "name": "python3",
      "display_name": "Python 3"
    }
  },
  "cells": [
    {
      "cell_type": "markdown",
      "metadata": {
        "id": "view-in-github",
        "colab_type": "text"
      },
      "source": [
        "<a href=\"https://colab.research.google.com/github/4centto/cyp_2021/blob/main/26_nov_cyp.ipynb\" target=\"_parent\"><img src=\"https://colab.research.google.com/assets/colab-badge.svg\" alt=\"Open In Colab\"/></a>"
      ]
    },
    {
      "cell_type": "code",
      "metadata": {
        "colab": {
          "base_uri": "https://localhost:8080/"
        },
        "id": "jrgMU6OVj3_f",
        "outputId": "14cb742b-d51a-42b6-f67e-f9b63687431f"
      },
      "source": [
        "if(True):\n",
        "\n",
        "  print(\"La condición se cumple\")\n",
        "\n",
        "print(\"Termina el programa\")"
      ],
      "execution_count": 1,
      "outputs": [
        {
          "output_type": "stream",
          "text": [
            "La condición se cumple\n",
            "Termina el programa\n"
          ],
          "name": "stdout"
        }
      ]
    },
    {
      "cell_type": "code",
      "metadata": {
        "colab": {
          "base_uri": "https://localhost:8080/"
        },
        "id": "LtORPx4Hl2vD",
        "outputId": "feba1d2d-0ac4-4ebc-a522-cf31a7335b5f"
      },
      "source": [
        "if 5 > 7:\n",
        "\n",
        "  print(\"La condición se cumple\")\n",
        "\n",
        "else:\n",
        "\n",
        "  print(\"No se cumple\")"
      ],
      "execution_count": 5,
      "outputs": [
        {
          "output_type": "stream",
          "text": [
            "No se cumple\n"
          ],
          "name": "stdout"
        }
      ]
    },
    {
      "cell_type": "code",
      "metadata": {
        "id": "Xk-PYDHKmafz"
      },
      "source": [
        "if 2 > 3: \n",
        "  print(\"Se cumple\")\n",
        "\n",
        "print(\"No se cumple\")"
      ],
      "execution_count": null,
      "outputs": []
    },
    {
      "cell_type": "code",
      "metadata": {
        "id": "QdfvYTwgnomx"
      },
      "source": [
        "#Ejercicio 1\n",
        "\n",
        "CALIF = float(input(\"Cual es la calificación del alumno: \"))\n",
        "\n",
        "if CALIF > 8:\n",
        "  print(\"El alumno aprobó\")\n",
        "else:\n",
        "  print(\"El alumno reprobó\")"
      ],
      "execution_count": null,
      "outputs": []
    },
    {
      "cell_type": "code",
      "metadata": {
        "colab": {
          "base_uri": "https://localhost:8080/"
        },
        "id": "-PmCUIncrNIW",
        "outputId": "6bb7c3cc-f41c-4c7d-f840-8909e9d121b4"
      },
      "source": [
        "#Ejercicio 2\n",
        "\n",
        "SUE = float(input(\"Cual es el sueldo del empleado: \"))\n",
        "\n",
        "if SUE < 1000:\n",
        "  SUE = SUE + (SUE * 0.15)\n",
        "  print(\"TOTAL: \", SUE)\n",
        "else:\n",
        "  print(\"El empleado no tiene derecho al aumento\")"
      ],
      "execution_count": 7,
      "outputs": [
        {
          "output_type": "stream",
          "text": [
            "Cual es el sueldo del empleado: 1280\n",
            "El empleado no tiene derecho al aumento\n"
          ],
          "name": "stdout"
        }
      ]
    }
  ]
}
{
  "nbformat": 4,
  "nbformat_minor": 0,
  "metadata": {
    "colab": {
      "name": "17_nov_cyp.ipynb",
      "provenance": [],
      "authorship_tag": "ABX9TyNqgnetlLqiUWQhbGLdCn8U",
      "include_colab_link": true
    },
    "kernelspec": {
      "name": "python3",
      "display_name": "Python 3"
    }
  },
  "cells": [
    {
      "cell_type": "markdown",
      "metadata": {
        "id": "view-in-github",
        "colab_type": "text"
      },
      "source": [
        "<a href=\"https://colab.research.google.com/github/4centto/cyp_2021/blob/main/17_nov_cyp.ipynb\" target=\"_parent\"><img src=\"https://colab.research.google.com/assets/colab-badge.svg\" alt=\"Open In Colab\"/></a>"
      ]
    },
    {
      "cell_type": "code",
      "metadata": {
        "colab": {
          "base_uri": "https://localhost:8080/"
        },
        "id": "9gcMQqD4SAwG",
        "outputId": "218f1986-11d8-4dcb-ba0a-931e6da787b7"
      },
      "source": [
        "edad = 15\n",
        "estatura = 1.67\n",
        "a = 10\n",
        "b = 3\n",
        "\n",
        "c = 2 ** b + 2 + 3 + 4\n",
        "\n",
        "print(c)\n",
        "\n",
        "e = estatura * 2.0\n",
        "\n",
        "print(e)\n",
        "\n",
        "f = a / b #En python se hace el calculo exacto\n",
        "print(f) #3.33333\n",
        "\n",
        "g = a // b #Division entera\n",
        "print(\"g = \", g)\n",
        "\n",
        "h = a % b\n",
        "print(\"h =\", h)\n",
        "\n",
        "numero = 10\n",
        "\n",
        "print(\"Es par? \", (numero % 2) == 0)"
      ],
      "execution_count": 11,
      "outputs": [
        {
          "output_type": "stream",
          "text": [
            "17\n",
            "3.34\n",
            "3.3333333333333335\n",
            "g =  3\n",
            "h = 1\n",
            "Es par?  True\n"
          ],
          "name": "stdout"
        }
      ]
    },
    {
      "cell_type": "code",
      "metadata": {
        "colab": {
          "base_uri": "https://localhost:8080/"
        },
        "id": "Hm0uUkXiW-21",
        "outputId": "9b0374b0-a145-4aba-f938-917276692450"
      },
      "source": [
        "ecuacion = 9 + 7 * 8 - 36 / 5 #     9 + 56 -7.2   -> 65 - 7.2 = |57.8| -> (Resultado)\n",
        "print(ecuacion)\n",
        "\n",
        "ecuacion = 0\n",
        "\n",
        "ecuacion = (9 + 7) * 8 - 36 / 5 #     16 * 8 - 7.2 -> |120.08| \n",
        "print(ecuacion)\n",
        "\n",
        "ecuacion = 9 + 7 * (8 - 36) / 5 #     \n",
        "print(ecuacion)"
      ],
      "execution_count": 14,
      "outputs": [
        {
          "output_type": "stream",
          "text": [
            "57.8\n",
            "120.8\n",
            "-30.200000000000003\n"
          ],
          "name": "stdout"
        }
      ]
    },
    {
      "cell_type": "code",
      "metadata": {
        "colab": {
          "base_uri": "https://localhost:8080/"
        },
        "id": "9TpavgDWb466",
        "outputId": "39d54248-ae99-4826-d9e9-8f9f20dde7c0"
      },
      "source": [
        "#Operadores logicos --> True y/o False\n",
        "\n",
        "x = 5\n",
        "y = 4\n",
        "\n",
        "valor = (x == y) # Son iguales --> Falso\n",
        "print(valor)\n",
        "\n",
        "valor = (x != y) # Son diferentes --> Verdadero\n",
        "print(valor)\n",
        "\n",
        "valor = (x < y) # x es menor que y --> False\n",
        "print(valor)\n",
        "\n",
        "valor = (x > y) # x es mayor que y --> True\n",
        "print(valor)\n",
        "\n",
        "y = 5\n",
        "valor = (x <= y) # x es menor o igual que y --> True\n",
        "print(valor)\n",
        "\n",
        "valor = (x >= y) # x es mayor o igual que y --> True\n",
        "print(valor)"
      ],
      "execution_count": 21,
      "outputs": [
        {
          "output_type": "stream",
          "text": [
            "False\n",
            "True\n",
            "False\n",
            "True\n",
            "True\n",
            "True\n"
          ],
          "name": "stdout"
        }
      ]
    },
    {
      "cell_type": "code",
      "metadata": {
        "colab": {
          "base_uri": "https://localhost:8080/"
        },
        "id": "VxdUrhHjfbfB",
        "outputId": "1d19b90a-ab7c-49b6-a333-7bfac2d9d235"
      },
      "source": [
        "costo_cheetos = 7.0\n",
        "tienda_abierta = True\n",
        "capital_en_bolsa = 10.0\n",
        "\n",
        "se_compra = (costo_cheetos <= capital_en_bolsa) and (tienda_abierta == True)\n",
        "\n",
        "print(se_compra)"
      ],
      "execution_count": 33,
      "outputs": [
        {
          "output_type": "stream",
          "text": [
            "True\n"
          ],
          "name": "stdout"
        }
      ]
    }
  ]
}
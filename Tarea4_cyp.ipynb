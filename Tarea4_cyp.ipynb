{
  "nbformat": 4,
  "nbformat_minor": 0,
  "metadata": {
    "colab": {
      "name": "Tarea4_cyp.ipynb",
      "provenance": [],
      "authorship_tag": "ABX9TyOsve69bhjkmSV1GfaaasT9",
      "include_colab_link": true
    },
    "kernelspec": {
      "name": "python3",
      "display_name": "Python 3"
    }
  },
  "cells": [
    {
      "cell_type": "markdown",
      "metadata": {
        "id": "view-in-github",
        "colab_type": "text"
      },
      "source": [
        "<a href=\"https://colab.research.google.com/github/4centto/cyp_2021/blob/main/Tarea4_cyp.ipynb\" target=\"_parent\"><img src=\"https://colab.research.google.com/assets/colab-badge.svg\" alt=\"Open In Colab\"/></a>"
      ]
    },
    {
      "cell_type": "code",
      "metadata": {
        "colab": {
          "base_uri": "https://localhost:8080/"
        },
        "id": "TsqSSbViUpRR",
        "outputId": "3f908b12-05dc-4940-eb0b-1dbfe408f5a9"
      },
      "source": [
        "#Ejemplo 2.4\n",
        "\n",
        "sueldo = int(input(\"Sueldo del trabajador: \"))\n",
        "\n",
        "if sueldo < 1000:\n",
        "  sueldo = sueldo + (sueldo * 0.15)\n",
        "  print(\"SUELDO TOTAL: $\", sueldo)\n",
        "  print(\"(Aumento del 15%)\")\n",
        "else: \n",
        "  sueldo = sueldo + (sueldo * 0.12)\n",
        "  print(\"SUELDO TOTAL: $\", sueldo)\n",
        "  print(\"Aumento del 12%\")"
      ],
      "execution_count": 5,
      "outputs": [
        {
          "output_type": "stream",
          "text": [
            "Sueldo del trabajador: 890\n",
            "SUELDO TOTAL: $ 1023.5\n",
            "(Aumento del 15%)\n"
          ],
          "name": "stdout"
        }
      ]
    },
    {
      "cell_type": "code",
      "metadata": {
        "colab": {
          "base_uri": "https://localhost:8080/"
        },
        "id": "0MYOnXFzVjqS",
        "outputId": "f10ae1be-01f5-4090-aa0c-846d65114697"
      },
      "source": [
        "#Ejemplo 2.8\n",
        "\n",
        "cat, sue = 0, 0\n",
        "i = 1\n",
        "\n",
        "while i != 0:\n",
        "  print()\n",
        "  print(\"Categoria del trabajador:\", end=\" \")\n",
        "  cat = int(input())\n",
        "  print(\"Sueldo del trabajador:\", end=\" \")\n",
        "  sue = int(input(\"$\"))\n",
        "  print()\n",
        "\n",
        "  if cat == 0 or sue == 0:\n",
        "    i = 0\n",
        "  else:\n",
        "    if cat == 1:\n",
        "      sue = sue + (sue * 0.15)\n",
        "      print(\"SUELDO FINAL: $\", sue)\n",
        "      print(\"(Aumento del 15%)\")\n",
        "      i = i + 1\n",
        "    elif cat == 2:\n",
        "      sue = sue + (sue * 0.10)\n",
        "      print(\"SUELDO FINAL: $\", sue)\n",
        "      print(\"(Aumento del 10%)\")\n",
        "      i = i + 1\n",
        "    elif cat == 3:\n",
        "      sue = sue + (sue * 0.08)\n",
        "      print(\"SUELDO FINAL: $\", sue)\n",
        "      print(\"(Aumento del 8%)\")\n",
        "      i = i + 1\n",
        "    elif cat == 4:\n",
        "      sue = sue + (sue * 0.07)\n",
        "      print(\"SUELDO FINAL: $\", sue)\n",
        "      print(\"(Aumento del 7%)\")\n",
        "      i = i + 1"
      ],
      "execution_count": 10,
      "outputs": [
        {
          "output_type": "stream",
          "text": [
            "\n",
            "Categoria del trabajador: 0\n",
            "Sueldo del trabajador: $0\n",
            "\n"
          ],
          "name": "stdout"
        }
      ]
    }
  ]
}
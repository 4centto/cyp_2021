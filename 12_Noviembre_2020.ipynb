{
  "nbformat": 4,
  "nbformat_minor": 0,
  "metadata": {
    "colab": {
      "name": "12_Noviembre_2020",
      "provenance": [],
      "authorship_tag": "ABX9TyMGx5sVFGW8x1enVPiUdPV4",
      "include_colab_link": true
    },
    "kernelspec": {
      "name": "python3",
      "display_name": "Python 3"
    }
  },
  "cells": [
    {
      "cell_type": "markdown",
      "metadata": {
        "id": "view-in-github",
        "colab_type": "text"
      },
      "source": [
        "<a href=\"https://colab.research.google.com/github/4centto/cyp_2021/blob/main/12_Noviembre_2020.ipynb\" target=\"_parent\"><img src=\"https://colab.research.google.com/assets/colab-badge.svg\" alt=\"Open In Colab\"/></a>"
      ]
    },
    {
      "cell_type": "code",
      "metadata": {
        "id": "5lqDImc7v9M0"
      },
      "source": [
        "#Ejemplo 1\n",
        "def main():\n",
        "\n",
        "  a = int(input(\"Dame un numero:  \"))\n",
        "\n",
        "  if a > 0:\n",
        "\n",
        "    print(\"El numero es positivo\")\n",
        "\n",
        "  elif a < 0:\n",
        "\n",
        "    print(\"El numero es negativo\")\n",
        "\n",
        "  elif a == 0:\n",
        "\n",
        "    print(\"El numero es neutro\")\n",
        "\n",
        "  print(\"\")\n",
        "  print(\"Fin del programa :)\")\n",
        "\n",
        "main()  "
      ],
      "execution_count": null,
      "outputs": []
    },
    {
      "cell_type": "code",
      "metadata": {
        "id": "9heMo5_4wEZ3"
      },
      "source": [
        "#Ejemplo 2\n",
        "numero = int(input(\"Dame un numero:  \"))\n",
        "\n",
        "if numero > 0:\n",
        "\n",
        "  print(\"El numero es positivo\")\n",
        "\n",
        "elif numero == 0:\n",
        "\n",
        "  print(\"El numero es neutral\")\n",
        "\n",
        "else:\n",
        "\n",
        "  print(\"El numero es negativo\")"
      ],
      "execution_count": null,
      "outputs": []
    },
    {
      "cell_type": "code",
      "metadata": {
        "id": "097iHk_fwHkQ"
      },
      "source": [
        "#Ejemplo 3\n",
        "numero = int(input(\"Dame un numero:  \"))\n",
        "\n",
        "if :"
      ],
      "execution_count": null,
      "outputs": []
    }
  ]
}
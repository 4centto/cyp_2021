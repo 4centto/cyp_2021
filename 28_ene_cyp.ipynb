{
  "nbformat": 4,
  "nbformat_minor": 0,
  "metadata": {
    "colab": {
      "name": "28_ene_cyp.ipynb",
      "provenance": [],
      "authorship_tag": "ABX9TyP31Tx2FsDfGxkuCRPGjoTU",
      "include_colab_link": true
    },
    "kernelspec": {
      "name": "python3",
      "display_name": "Python 3"
    }
  },
  "cells": [
    {
      "cell_type": "markdown",
      "metadata": {
        "id": "view-in-github",
        "colab_type": "text"
      },
      "source": [
        "<a href=\"https://colab.research.google.com/github/4centto/cyp_2021/blob/main/28_ene_cyp.ipynb\" target=\"_parent\"><img src=\"https://colab.research.google.com/assets/colab-badge.svg\" alt=\"Open In Colab\"/></a>"
      ]
    },
    {
      "cell_type": "markdown",
      "metadata": {
        "id": "QYW9U3EJBoU6"
      },
      "source": [
        "#**Tuplas**\r\n",
        "\r\n",
        "- Tipo de datos lineal, estructura de datos.\r\n",
        "- No es mutable.\r\n",
        "- Puede contener de 0 a n elementos.\r\n",
        "- Se declara con '{' y '}'\r\n",
        "- No puedes agregar ni eliminar elementos\r\n",
        "- Pueden ser anidadas.\r\n",
        "- Los argumentis pueden ser enviados como tuplas."
      ]
    },
    {
      "cell_type": "code",
      "metadata": {
        "colab": {
          "base_uri": "https://localhost:8080/"
        },
        "id": "Onig7dpcCRcn",
        "outputId": "e37cc4d8-a1ca-4bbe-d6d3-11f219fe9b5b"
      },
      "source": [
        "frutas = ('Sandía', 'Melón', 'Limón', 'Mango')\r\n",
        "\r\n",
        "print(frutas)\r\n",
        "print(frutas[1:3:1])\r\n",
        "print(frutas.count('Manzanas'))\r\n",
        "\r\n",
        "#Son inmutables\r\n",
        "#frutas[1] = 'Manzana'\r\n",
        "\r\n",
        "# ¿Para que se usan?\r\n",
        "conexion = ('132.248.12.12', 3306, 'cyp_bd', 'usr_test', '1234dios')\r\n",
        "print(f\"usuario: { conexion[3] } y password: { conexion[4] }\")"
      ],
      "execution_count": 10,
      "outputs": [
        {
          "output_type": "stream",
          "text": [
            "('Sandía', 'Melón', 'Limón', 'Mango')\n",
            "('Melón', 'Limón')\n",
            "0\n",
            "usuario: usr_test y password: 1234dios\n"
          ],
          "name": "stdout"
        }
      ]
    },
    {
      "cell_type": "markdown",
      "metadata": {
        "id": "IPQhdrJPFtNE"
      },
      "source": [
        "#**Diccionarios**\r\n",
        "\r\n",
        "- Estructura de datos semi-lineal.\r\n",
        "- Formada por pares (llave - valor).\r\n",
        "- Utilizan organizacion por funcion de dispersion.\r\n",
        "- Se declara con los elementos\r\n",
        "- Equivalentes al tipo de datos JSON, de JavaScript.\r\n",
        "- El selector usa valores de tipo string.\r\n",
        "- No se puede seleccionar por offset: [1].\r\n",
        "- Son mutables."
      ]
    },
    {
      "cell_type": "code",
      "metadata": {
        "colab": {
          "base_uri": "https://localhost:8080/"
        },
        "id": "dMPLsiHqG3Fa",
        "outputId": "92949c18-238c-410e-9ce9-a46d3a9072f0"
      },
      "source": [
        "alumno = { 'nombre' : 'Juan Perez', 'edad' : 18}\r\n",
        "print(alumno)\r\n",
        "print(alumno['nombre'])\r\n",
        "\r\n",
        "alumnos = {\"Nombre\":\"Ivan\", \"Matricula\":318146506, \"Edad\":18, \"Materias\":5, \"Créditos\":0}\r\n",
        "print(str(alumnos[\"Nombre\"]).upper())"
      ],
      "execution_count": 16,
      "outputs": [
        {
          "output_type": "stream",
          "text": [
            "{'nombre': 'Juan Perez', 'edad': 18}\n",
            "Juan Perez\n",
            "IVAN\n"
          ],
          "name": "stdout"
        }
      ]
    },
    {
      "cell_type": "code",
      "metadata": {
        "id": "VM9dRr1qVFTr"
      },
      "source": [
        "funciones = dir( dict )\r\n",
        "for i in funciones:\r\n",
        "  print(i)"
      ],
      "execution_count": null,
      "outputs": []
    },
    {
      "cell_type": "markdown",
      "metadata": {
        "id": "GaLmycFcVFtT"
      },
      "source": [
        "#**Manupulacion de los pares llave - valor**\r\n",
        "\r\n",
        "Para ello se emplean los metodos:\r\n",
        " - keys() te regresa una tupla con los strings llave del diccionario.\r\n",
        " - values() Te regresa solo dos valores.\r\n",
        " - items() Te regresa los valores."
      ]
    },
    {
      "cell_type": "code",
      "metadata": {
        "colab": {
          "base_uri": "https://localhost:8080/"
        },
        "id": "Uq9XBQElWJAf",
        "outputId": "60ce6362-3eba-4f47-881a-a34b2114ba04"
      },
      "source": [
        "print(alumno)\r\n",
        "llaves = alumno.keys()\r\n",
        "print(llaves)\r\n",
        "for i in llaves:\r\n",
        "  print(i, \": \", end=\"\")\r\n",
        "  print(alumno[i])\r\n",
        "\r\n",
        "#Manipular los valores\r\n",
        "valores = alumno.values()\r\n",
        "print(valores)\r\n",
        "\r\n",
        "print()\r\n",
        "print(\"------------\")\r\n",
        "\r\n",
        "for i in valores:\r\n",
        "  print(i)\r\n",
        "\r\n",
        "print()\r\n",
        "print(\"------------\")\r\n",
        "\r\n",
        "#Manipular pares\r\n",
        "pares = alumno.items()\r\n",
        "print(pares)\r\n",
        "\r\n",
        "for i in pares:\r\n",
        "  print(i)"
      ],
      "execution_count": 39,
      "outputs": [
        {
          "output_type": "stream",
          "text": [
            "{'nombre': 'Juan Perez', 'edad': 18}\n",
            "dict_keys(['nombre', 'edad'])\n",
            "nombre : Juan Perez\n",
            "edad : 18\n",
            "dict_values(['Juan Perez', 18])\n",
            "\n",
            "------------\n",
            "Juan Perez\n",
            "18\n",
            "\n",
            "------------\n",
            "dict_items([('nombre', 'Juan Perez'), ('edad', 18)])\n",
            "('nombre', 'Juan Perez')\n",
            "('edad', 18)\n"
          ],
          "name": "stdout"
        }
      ]
    }
  ]
}
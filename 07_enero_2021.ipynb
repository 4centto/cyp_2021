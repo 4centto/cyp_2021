{
  "nbformat": 4,
  "nbformat_minor": 0,
  "metadata": {
    "colab": {
      "name": "07_enero_2021.ipynb",
      "provenance": [],
      "authorship_tag": "ABX9TyOtXwKfThCSjNp2FryN8z8T",
      "include_colab_link": true
    },
    "kernelspec": {
      "name": "python3",
      "display_name": "Python 3"
    }
  },
  "cells": [
    {
      "cell_type": "markdown",
      "metadata": {
        "id": "view-in-github",
        "colab_type": "text"
      },
      "source": [
        "<a href=\"https://colab.research.google.com/github/4centto/cyp_2021/blob/main/07_enero_2021.ipynb\" target=\"_parent\"><img src=\"https://colab.research.google.com/assets/colab-badge.svg\" alt=\"Open In Colab\"/></a>"
      ]
    },
    {
      "cell_type": "code",
      "metadata": {
        "colab": {
          "base_uri": "https://localhost:8080/"
        },
        "id": "0vir6_SK46pt",
        "outputId": "a8e0ae7d-991b-4f1f-d027-4bc65e665c0d"
      },
      "source": [
        "from random import randint\r\n",
        "\r\n",
        "#Generador para un vector de dos dimensiones\r\n",
        "REN = 3\r\n",
        "COL = 5\r\n",
        "VEC = [[0 for x in range(COL)] for x in range(REN)]\r\n",
        "\r\n",
        "print(VEC)\r\n",
        "VEC[1][2] = 15\r\n",
        "print(VEC)\r\n",
        "\r\n",
        "#Recorrer la tabla\r\n",
        "for i in range(REN):\r\n",
        "  for j in range(COL):\r\n",
        "    print(f\"{i},{j} = {VEC[i][j]}\")"
      ],
      "execution_count": 19,
      "outputs": [
        {
          "output_type": "stream",
          "text": [
            "[[0, 0, 0, 0, 0], [0, 0, 0, 0, 0], [0, 0, 0, 0, 0]]\n",
            "[[0, 0, 0, 0, 0], [0, 0, 15, 0, 0], [0, 0, 0, 0, 0]]\n",
            "0,0 = 0\n",
            "0,1 = 0\n",
            "0,2 = 0\n",
            "0,3 = 0\n",
            "0,4 = 0\n",
            "1,0 = 0\n",
            "1,1 = 0\n",
            "1,2 = 15\n",
            "1,3 = 0\n",
            "1,4 = 0\n",
            "2,0 = 0\n",
            "2,1 = 0\n",
            "2,2 = 0\n",
            "2,3 = 0\n",
            "2,4 = 0\n"
          ],
          "name": "stdout"
        }
      ]
    },
    {
      "cell_type": "code",
      "metadata": {
        "colab": {
          "base_uri": "https://localhost:8080/"
        },
        "id": "835Z3vaaFatC",
        "outputId": "b0a3f990-b494-446e-cf98-6d71eaeb48be"
      },
      "source": [
        "estados = int(input(\"¿Cuantos estados son?\"))\r\n",
        "lluvias_estado = [[0 for x in range(12)] for x in range(estados)]\r\n",
        "prom = 0\r\n",
        "sum = 0\r\n",
        "\r\n",
        "print(lluvias_estado)\r\n",
        "\r\n",
        "for i in range(estados):\r\n",
        "  for j in range(12):\r\n",
        "\r\n",
        "    lluvias_estado[i][j] = randint(1000, 5000)\r\n",
        "\r\n",
        "print(lluvias_estado)\r\n",
        "print()\r\n",
        "\r\n",
        "for i in range(estados):\r\n",
        "  sum = 0\r\n",
        "  for j in range(12):\r\n",
        "    sum += lluvias_estado[i][j]\r\n",
        "\r\n",
        "  prom = sum / 12\r\n",
        "  print(\"El promedio en el estado \", (i + 1), \" es igual a: \", round(prom, 2))"
      ],
      "execution_count": 28,
      "outputs": [
        {
          "output_type": "stream",
          "text": [
            "¿Cuantos estados son?2\n",
            "[[0, 0, 0, 0, 0, 0, 0, 0, 0, 0, 0, 0], [0, 0, 0, 0, 0, 0, 0, 0, 0, 0, 0, 0]]\n",
            "[[2529, 1642, 4528, 1721, 2163, 3620, 4761, 4794, 2827, 4123, 4623, 4500], [2231, 1371, 3172, 1537, 3089, 2769, 3913, 4140, 2767, 3977, 1912, 4215]]\n",
            "\n",
            "El promedio en el estado  1  es igual a:  3485.92\n",
            "El promedio en el estado  2  es igual a:  2924.42\n"
          ],
          "name": "stdout"
        }
      ]
    }
  ]
}
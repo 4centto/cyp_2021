{
  "nbformat": 4,
  "nbformat_minor": 0,
  "metadata": {
    "colab": {
      "name": "14_enero_cyp.ipynb",
      "provenance": [],
      "authorship_tag": "ABX9TyNv42TBNH57lId6JWWE04UJ",
      "include_colab_link": true
    },
    "kernelspec": {
      "name": "python3",
      "display_name": "Python 3"
    }
  },
  "cells": [
    {
      "cell_type": "markdown",
      "metadata": {
        "id": "view-in-github",
        "colab_type": "text"
      },
      "source": [
        "<a href=\"https://colab.research.google.com/github/4centto/cyp_2021/blob/main/14_enero_cyp.ipynb\" target=\"_parent\"><img src=\"https://colab.research.google.com/assets/colab-badge.svg\" alt=\"Open In Colab\"/></a>"
      ]
    },
    {
      "cell_type": "markdown",
      "metadata": {
        "id": "vUfkHC6c5K8s"
      },
      "source": [
        "#**Palabras Reservadas en Python**\r\n",
        "\r\n",
        "- 1. False\r\n",
        "1. None\r\n",
        "1. True\r\n",
        "1. and\r\n",
        "1. as\r\n",
        "1. assert\r\n",
        "1. break\r\n",
        "1. class\r\n",
        "1. continue\r\n",
        "1. def\r\n",
        "1. del\r\n",
        "1. elif\r\n",
        "1. else\r\n",
        "1. except\r\n",
        "1. finally\r\n",
        "1. for\r\n",
        "1. from\r\n",
        "1. global\r\n",
        "1. if\r\n",
        "1. import\r\n",
        "1. in\r\n",
        "1. is\r\n",
        "1. lambda\r\n",
        "1. nonlocal\r\n",
        "1. not\r\n",
        "1. or\r\n",
        "1. pass\r\n",
        "1. raise\r\n",
        "1. return\r\n",
        "1. try\r\n",
        "1. while\r\n",
        "1. with\r\n",
        "1. yield"
      ]
    },
    {
      "cell_type": "code",
      "metadata": {
        "id": "W_Qx3baV5ZG4"
      },
      "source": [
        "import keyword\r\n",
        "pr = keyword.kwlist\r\n",
        "\r\n",
        "print(len(pr))\r\n",
        "\r\n",
        "for palabra in pr:\r\n",
        "  print(\"1.\", palabra, end=\"\\n\")"
      ],
      "execution_count": null,
      "outputs": []
    },
    {
      "cell_type": "markdown",
      "metadata": {
        "id": "JuehCwnD62ml"
      },
      "source": [
        "#**Variables:**\r\n",
        "\r\n",
        "- Una variable es un espacio de memoria para almacenar valores que cambian a lo largo de la ejecucion del programa. Este espacio de memoria esta referenciado por un identificador, el cual tiene ciertas reglas de nombrado:\r\n",
        "  1. No debe ser igual a alguna de la palabras reservadas.\r\n",
        "  2. Evitar nombres muy largos.\r\n",
        "  3. Evitar muy cortos (x, y, i).\r\n",
        "  4. Usar notacion snake_case.\r\n",
        "  5. No puede iniciar con numeros.\r\n",
        "  6. Puede iniciar con _.\r\n"
      ]
    },
    {
      "cell_type": "code",
      "metadata": {
        "colab": {
          "base_uri": "https://localhost:8080/",
          "height": 52
        },
        "id": "mxfxLd9V7rJn",
        "outputId": "ca8ece58-4fbe-41a9-be97-7bc5ac3d7592"
      },
      "source": [
        "_2edad = 12\r\n",
        "print(_2edad)\r\n",
        "\r\n",
        "\"\"\"\r\n",
        "No se puede unar una palabra reservada como identificador de variable\r\n",
        "for = 12\r\n",
        "print(for)\r\n",
        "\"\"\""
      ],
      "execution_count": 13,
      "outputs": [
        {
          "output_type": "stream",
          "text": [
            "12\n"
          ],
          "name": "stdout"
        },
        {
          "output_type": "execute_result",
          "data": {
            "application/vnd.google.colaboratory.intrinsic+json": {
              "type": "string"
            },
            "text/plain": [
              "'\\nNo se puede unar una palabra reservada como identificador de variable\\nfor = 12\\nprint(for)\\n'"
            ]
          },
          "metadata": {
            "tags": []
          },
          "execution_count": 13
        }
      ]
    },
    {
      "cell_type": "markdown",
      "metadata": {
        "id": "VtQ_GokA95pn"
      },
      "source": [
        "#**Tipos de datos:**\r\n",
        "\r\n",
        "- Numericos:\r\n",
        "  1. int (1, 2, 34, 68, 79, 100).\r\n",
        "  2. float (1.1, 3.5, 10.9, 100.45).\r\n",
        "  3. long (100001281929172, 102989673128712029, 19027938898719719).\r\n",
        "  4. complex (6i, 7i, 24i, 32i).\r\n",
        "- Boolean: True o False.\r\n",
        "- String cadenas de caracteres .\r\n",
        "- Listas ([1,2,3,4,5], [a,b,c,1,2,3])\r\n",
        "- Tuplas ((edad, 23)) \r\n",
        "- Conjuntos\r\n",
        "- Diccionarios"
      ]
    },
    {
      "cell_type": "markdown",
      "metadata": {
        "id": "CtcbR3XzEFMn"
      },
      "source": [
        "#**Tipo de dato String**\r\n",
        "\r\n",
        "Este tipo de dato permite almacenar cadenas de caracteres, como por ejemplo: \r\n",
        "\r\n",
        "Nombre = \"Ivan\"\r\n",
        "lugar_nacimiento = \"Mexico D.F, Lindavista\"\r\n",
        "frase_favorita = \"\"\" \r\n",
        "  El conocimiento me persigue, pero...\r\n",
        "  yo soy mas rapido.\r\n",
        "\"\"\""
      ]
    },
    {
      "cell_type": "markdown",
      "metadata": {
        "id": "_RSFz23-F298"
      },
      "source": [
        "#**String como arreglo**\r\n",
        "\r\n",
        "Un string en python es almacenado como el tipo de dato (Estructura de datos) arreglo.\r\n",
        "\r\n",
        "Por ejemplo:\r\n",
        "\r\n",
        "\"\"\"\r\n",
        "nombre = \"Ivan\"\r\n",
        "\"\"\"\r\n",
        "\r\n",
        "El elemento 'I' es almacenado en un arreglo en la posicion 0. La v en la 1 y asi sucesivamente.\r\n",
        "\r\n",
        "###El selector:\r\n",
        "- La notacion para seleccionar un elemto del arreglo es: []. \r\n",
        "Donde el valor interno debe ser un valor numerico entero."
      ]
    },
    {
      "cell_type": "code",
      "metadata": {
        "colab": {
          "base_uri": "https://localhost:8080/"
        },
        "id": "9KPP1i7_GUcp",
        "outputId": "8e258d04-f0d0-4ac9-8857-119aa3797e2e"
      },
      "source": [
        "nombre = \"Ivan\"\r\n",
        "\r\n",
        "print(nombre[2])"
      ],
      "execution_count": 14,
      "outputs": [
        {
          "output_type": "stream",
          "text": [
            "a\n"
          ],
          "name": "stdout"
        }
      ]
    },
    {
      "cell_type": "markdown",
      "metadata": {
        "id": "eTXQeNFVHVW5"
      },
      "source": [
        "#**Iterar sobre un string:**\r\n",
        "\r\n",
        "Se puede iterar sobre un string con un for de la forma siguiente:\r\n",
        "  - for i in range(len(nombre)):\r\n",
        "\r\n",
        "      print(i)"
      ]
    },
    {
      "cell_type": "code",
      "metadata": {
        "colab": {
          "base_uri": "https://localhost:8080/"
        },
        "id": "DR9sANNqIV1l",
        "outputId": "db149eea-30a3-4087-9604-a7082349d0e4"
      },
      "source": [
        "nombre = \"Ivan\"\r\n",
        "\r\n",
        "for i in range(len(nombre)):\r\n",
        "  print((i + 1), end=\". \")\r\n",
        "  print(nombre[i])"
      ],
      "execution_count": 19,
      "outputs": [
        {
          "output_type": "stream",
          "text": [
            "1. I\n",
            "2. v\n",
            "3. a\n",
            "4. n\n"
          ],
          "name": "stdout"
        }
      ]
    },
    {
      "cell_type": "markdown",
      "metadata": {
        "id": "MNNbDRPRKD5f"
      },
      "source": [
        "#**Funcion range:**\r\n",
        "\r\n",
        "El inicio es opcional y por defecto tiene el valor 0.\r\n",
        "\r\n",
        "El incremento tambien es opcional y por defecto es 1."
      ]
    },
    {
      "cell_type": "code",
      "metadata": {
        "colab": {
          "base_uri": "https://localhost:8080/"
        },
        "id": "HVXJa1D-JyKG",
        "outputId": "632ceec4-47fd-4ad6-ecff-33eb9cdc137e"
      },
      "source": [
        "nombre = \"Ivan\"\r\n",
        "\r\n",
        "for i in range(len(nombre) , 0, -1):\r\n",
        "  print(nombre[i - 1])"
      ],
      "execution_count": 34,
      "outputs": [
        {
          "output_type": "stream",
          "text": [
            "n\n",
            "a\n",
            "v\n",
            "I\n"
          ],
          "name": "stdout"
        }
      ]
    },
    {
      "cell_type": "markdown",
      "metadata": {
        "id": "y6jNVRnCQf-U"
      },
      "source": [
        "#**SLICING de cadenas de caracteres**\r\n",
        "\r\n",
        "- Esta caracteristica permite sacar secciones de una cadena con la siguiente sintaxis: [inicio:stop:incremento], donde inicio e incremento son opcionales y tambien soportan indexado alternativo, es decir, con negativos."
      ]
    },
    {
      "cell_type": "code",
      "metadata": {
        "colab": {
          "base_uri": "https://localhost:8080/"
        },
        "id": "pyAOJgzsQloO",
        "outputId": "efb30586-b70b-4bed-ecb8-b8bba7ed6606"
      },
      "source": [
        "facultad = \"Facultad de Estudios superiores Aragon (La mejor)\"\r\n",
        "\r\n",
        "print(facultad)\r\n",
        "\r\n",
        "for i in facultad.split(\" \"):\r\n",
        "  if i == \"Estudios\":\r\n",
        "    print(i)\r\n",
        "\r\n",
        "#Hacer esto mismo por la caracteristica slicing\r\n",
        "print(facultad[12:20:1])\r\n",
        "\r\n",
        "#La palabra 'de' con slicing\r\n",
        "print(facultad[9:11:1])\r\n",
        "\r\n",
        "#Como sacar la frase '(La mejor)'\r\n",
        "print(facultad[48:38:-1])"
      ],
      "execution_count": 41,
      "outputs": [
        {
          "output_type": "stream",
          "text": [
            "Facultad de Estudios superiores Aragon (La mejor)\n",
            "Estudios\n",
            "Estudios\n",
            "de\n",
            ")rojem aL(\n"
          ],
          "name": "stdout"
        }
      ]
    }
  ]
}
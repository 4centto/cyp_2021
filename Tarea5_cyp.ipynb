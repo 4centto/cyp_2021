{
  "nbformat": 4,
  "nbformat_minor": 0,
  "metadata": {
    "colab": {
      "name": "Tarea5_cyp.ipynb",
      "provenance": [],
      "authorship_tag": "ABX9TyNTaZSBEBgnb74+74troaOz",
      "include_colab_link": true
    },
    "kernelspec": {
      "name": "python3",
      "display_name": "Python 3"
    }
  },
  "cells": [
    {
      "cell_type": "markdown",
      "metadata": {
        "id": "view-in-github",
        "colab_type": "text"
      },
      "source": [
        "<a href=\"https://colab.research.google.com/github/4centto/cyp_2021/blob/main/Tarea5_cyp.ipynb\" target=\"_parent\"><img src=\"https://colab.research.google.com/assets/colab-badge.svg\" alt=\"Open In Colab\"/></a>"
      ]
    },
    {
      "cell_type": "code",
      "metadata": {
        "colab": {
          "base_uri": "https://localhost:8080/"
        },
        "id": "xvDGg05u8eiw",
        "outputId": "5e4b6569-53ca-4166-afa4-537ecb8604da"
      },
      "source": [
        "#Ejercicio 3.1\n",
        "#Tomar el sueldo de 10 empleados de una empresa y obtener la nomina (Sin usar estructuras repetitivas)\n",
        "\n",
        "nomina = 0\n",
        "\n",
        "sueldo1 = int(input(\"Sueldo 1: $\"))\n",
        "sueldo2 = int(input(\"Sueldo 2: $\"))\n",
        "sueldo3 = int(input(\"Sueldo 3: $\"))\n",
        "sueldo4 = int(input(\"Sueldo 4: $\"))\n",
        "sueldo5 = int(input(\"Sueldo 5: $\"))\n",
        "sueldo6 = int(input(\"Sueldo 6: $\"))\n",
        "sueldo7 = int(input(\"Sueldo 7: $\"))\n",
        "sueldo8 = int(input(\"Sueldo 8: $\"))\n",
        "sueldo9 = int(input(\"Sueldo 9: $\"))\n",
        "sueldo10 = int(input(\"Sueldo 10: $\"))\n",
        "\n",
        "nomina = sueldo1 + sueldo2 + sueldo3 + sueldo4 + sueldo5 + sueldo6+ sueldo7 +sueldo8 + sueldo9 + sueldo10\n",
        "\n",
        "print()\n",
        "print(\"NOMINA: \", nomina)\n"
      ],
      "execution_count": 1,
      "outputs": [
        {
          "output_type": "stream",
          "text": [
            "Sueldo 1: 1\n",
            "Sueldo 2: 2\n",
            "Sueldo 3: 3\n",
            "Sueldo 4: 4\n",
            "Sueldo 5: 5\n",
            "Sueldo 6: 6\n",
            "Sueldo 7: 7\n",
            "Sueldo 8: 8\n",
            "Sueldo 9: 9\n",
            "Sueldo 10: 10\n",
            "\n",
            "NOMINA:  55\n"
          ],
          "name": "stdout"
        }
      ]
    },
    {
      "cell_type": "code",
      "metadata": {
        "colab": {
          "base_uri": "https://localhost:8080/"
        },
        "id": "KXKoMAlf9rhD",
        "outputId": "779ed3bb-1de2-4ce7-89e4-739c1d35b8be"
      },
      "source": [
        "#Ejercicio 3.1\n",
        "#El mismo problema, pero ahora usando una estructura repetitiva\n",
        "\n",
        "nomina = 0\n",
        "\n",
        "for i in range(10):\n",
        "  print(\"Sueldo \", (i + 1), \": $\", end=\"\")\n",
        "  sueldo = int(input())\n",
        "  nomina += sueldo\n",
        "\n",
        "print(\"NOMINA: \", nomina)"
      ],
      "execution_count": 6,
      "outputs": [
        {
          "output_type": "stream",
          "text": [
            "Sueldo  1 : $1\n",
            "Sueldo  2 : $2\n",
            "Sueldo  3 : $3\n",
            "Sueldo  4 : $4\n",
            "Sueldo  5 : $5\n",
            "Sueldo  6 : $6\n",
            "Sueldo  7 : $7\n",
            "Sueldo  8 : $8\n",
            "Sueldo  9 : $9\n",
            "Sueldo  10 : $10\n",
            "NOMINA:  55\n"
          ],
          "name": "stdout"
        }
      ]
    },
    {
      "cell_type": "code",
      "metadata": {
        "colab": {
          "base_uri": "https://localhost:8080/"
        },
        "id": "cmdn4pdm-pAH",
        "outputId": "78e6da3c-f8ef-4b37-debb-3ccca3905279"
      },
      "source": [
        "#Ejercicio 3.4\n",
        "#Obtener los gastos de un frupo pero no se sabe cuentos fueron en total\n",
        "\n",
        "gasto = 0\n",
        "total = 0\n",
        "totalGastos = 0\n",
        "i = 1\n",
        "\n",
        "print(\"******************************\")\n",
        "print(\"* Para finalizar presione -1 *\")\n",
        "print(\"******************************\")\n",
        "print()\n",
        "\n",
        "while i != -1:\n",
        "  print(\"Gasto \", i, \": \", end=\"\")\n",
        "  gasto = int(input())\n",
        "\n",
        "  if gasto == -1:\n",
        "    i = -1\n",
        "  else:\n",
        "    total += gasto\n",
        "    totalGastos += 1\n",
        "    i += 1\n",
        "\n",
        "print()\n",
        "print(\"Gastos: \", totalGastos)\n",
        "print(\"TOTAL: $\", total)"
      ],
      "execution_count": 8,
      "outputs": [
        {
          "output_type": "stream",
          "text": [
            "******************************\n",
            "* Para finalizar presione -1 *\n",
            "******************************\n",
            "\n",
            "Gasto  1 : 15\n",
            "Gasto  2 : 15\n",
            "Gasto  3 : 15\n",
            "Gasto  4 : 15\n",
            "Gasto  5 : 10\n",
            "Gasto  6 : -1\n",
            "\n",
            "Gastos:  5\n",
            "TOTAL: $ 70\n"
          ],
          "name": "stdout"
        }
      ]
    }
  ]
}
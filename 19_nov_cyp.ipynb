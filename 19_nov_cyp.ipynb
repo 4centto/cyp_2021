{
  "nbformat": 4,
  "nbformat_minor": 0,
  "metadata": {
    "colab": {
      "name": "19_nov_cyp.ipynb",
      "provenance": [],
      "authorship_tag": "ABX9TyP9sJOU5zIqR1JWbYBta8Lr",
      "include_colab_link": true
    },
    "kernelspec": {
      "name": "python3",
      "display_name": "Python 3"
    }
  },
  "cells": [
    {
      "cell_type": "markdown",
      "metadata": {
        "id": "view-in-github",
        "colab_type": "text"
      },
      "source": [
        "<a href=\"https://colab.research.google.com/github/4centto/cyp_2021/blob/main/19_nov_cyp.ipynb\" target=\"_parent\"><img src=\"https://colab.research.google.com/assets/colab-badge.svg\" alt=\"Open In Colab\"/></a>"
      ]
    },
    {
      "cell_type": "code",
      "metadata": {
        "colab": {
          "base_uri": "https://localhost:8080/"
        },
        "id": "bRQYTvr1g__0",
        "outputId": "7e059c53-61ae-4f32-bf33-beb73020487e"
      },
      "source": [
        "I = 0\n",
        "I = I + 1\n",
        "I = I + 1\n",
        "print(f\"I = { I }\");\n",
        "\n",
        "J = (5 ** 2) / 3\n",
        "print(f\"J = { J }\")"
      ],
      "execution_count": 10,
      "outputs": [
        {
          "output_type": "stream",
          "text": [
            "I = 2\n",
            "J = { J }\n"
          ],
          "name": "stdout"
        }
      ]
    },
    {
      "cell_type": "code",
      "metadata": {
        "colab": {
          "base_uri": "https://localhost:8080/"
        },
        "id": "AXEdbbkjmxhV",
        "outputId": "0300a2ba-375f-4a05-d688-da085f6328ea"
      },
      "source": [
        "#Declaracion de variables (Se reserva memoria)\n",
        "A = 0\n",
        "B = 0\n",
        "C = 0\n",
        "D = 0\n",
        "\n",
        "#Se piden los valores al usuario\n",
        "A = int(input(\"Dame un valor entero: \"))\n",
        "B = int(input(\"Dame un valor entero: \"))\n",
        "C = int(input(\"Dame un valor entero: \"))\n",
        "D = int(input(\"Dame un valor entero: \"))\n",
        "\n",
        "#Se imprimen los valores\n",
        "print(D, C, B, A)"
      ],
      "execution_count": 5,
      "outputs": [
        {
          "output_type": "stream",
          "text": [
            "Dame un valor entero: 1\n",
            "Dame un valor entero: 2\n",
            "Dame un valor entero: 3\n",
            "Dame un valor entero: 4\n",
            "4 3 2 1\n"
          ],
          "name": "stdout"
        }
      ]
    },
    {
      "cell_type": "code",
      "metadata": {
        "colab": {
          "base_uri": "https://localhost:8080/"
        },
        "id": "8IdK5uPZpgdG",
        "outputId": "972dd7f0-b460-4a71-aa9d-b6f87a2b9d72"
      },
      "source": [
        "#Ejemplo 1.7\n",
        "A = 0\n",
        "B = 0\n",
        "RES = 0\n",
        "\n",
        "A = int(input(\"Dame el valor de A: \"))\n",
        "B = int(input(\"Dame el valor de B: \"))\n",
        "\n",
        "RES = (A + B) ** 2 / 3\n",
        "print(round(RES, 2)) "
      ],
      "execution_count": 9,
      "outputs": [
        {
          "output_type": "stream",
          "text": [
            "Dame el valor de A: 5\n",
            "Dame el valor de B: 6\n",
            "40.33\n"
          ],
          "name": "stdout"
        }
      ]
    },
    {
      "cell_type": "code",
      "metadata": {
        "colab": {
          "base_uri": "https://localhost:8080/"
        },
        "id": "Ad9569oYt0Vt",
        "outputId": "ce6cfa1d-9f37-4f40-e0dd-9599b9916a41"
      },
      "source": [
        "MAT = 0\n",
        "CAL1 = 0\n",
        "CAL2 = 0\n",
        "CAL3 = 0\n",
        "CAL4 = 0\n",
        "CAL5 = 0\n",
        "RES = 0\n",
        "\n",
        "MAT = input(\"Dame la matricula del alumno: \")\n",
        "CAL1 = float(input(\"Dame la calificacion 1: \"))\n",
        "CAL2 = float(input(\"Dame la calificacion 2: \"))\n",
        "CAL3 = float(input(\"Dame la calificacion 3: \"))\n",
        "CAL4 = float(input(\"Dame la calificacion 4: \"))\n",
        "CAL5 = float(input(\"Dame la calificacion 5: \"))\n",
        "\n",
        "RES = (CAL1 + CAL2 + CAL3 + CAL4 + CAL5) / 5\n",
        "\n",
        "print(\"El promedio del alumno con matricula \", MAT, \" tiene promedio de: \" , RES)"
      ],
      "execution_count": 15,
      "outputs": [
        {
          "output_type": "stream",
          "text": [
            "Dame la matricula del alumno: 16500\n",
            "Dame la calificacion 1: 8\n",
            "Dame la calificacion 2: 8.5\n",
            "Dame la calificacion 3: 9\n",
            "Dame la calificacion 4: 7\n",
            "Dame la calificacion 5: 6\n",
            "El promedio del alumno con matricula  16500  tiene promedio de:  7.7\n"
          ],
          "name": "stdout"
        }
      ]
    },
    {
      "cell_type": "code",
      "metadata": {
        "colab": {
          "base_uri": "https://localhost:8080/"
        },
        "id": "Md2raKXtxx-6",
        "outputId": "be0c1d2a-db22-441b-f2da-548d14d7a75f"
      },
      "source": [
        "NUM = 0\n",
        "CUA = 0\n",
        "CUB = 0\n",
        "\n",
        "NUM = int(input(\"Dame un numero entero: \"))\n",
        "\n",
        "CUA = NUM ** 2\n",
        "CUB = NUM ** 3\n",
        "\n",
        "print(\"El cuadrado de \", NUM, \" es \", CUA, \" y su cubo es \", CUB)"
      ],
      "execution_count": 16,
      "outputs": [
        {
          "output_type": "stream",
          "text": [
            "Dame un numero entero: 2\n",
            "El cuadrado de  2  es  4  y su cubo es  8\n"
          ],
          "name": "stdout"
        }
      ]
    },
    {
      "cell_type": "code",
      "metadata": {
        "colab": {
          "base_uri": "https://localhost:8080/"
        },
        "id": "GLri6giWzSU9",
        "outputId": "0437215f-577f-47ec-bb4c-1b1bc2d18674"
      },
      "source": [
        "BASE = 0\n",
        "ALTURA = 0\n",
        "AREA = 0\n",
        "PERIMETRO = 0\n",
        "\n",
        "BASE = float(input(\"Dame el valor de la base del rectrangulo: \"))\n",
        "ALTURA = float(input(\"Dame el valor de la altura del rectangulo: \"))\n",
        "\n",
        "print(\"\")\n",
        "\n",
        "PERIMETRO = (2 * BASE) + (2 * ALTURA)\n",
        "AREA = BASE * ALTURA \n",
        "\n",
        "print(\"Base = \", BASE)\n",
        "print(\"Altura = \", ALTURA)\n",
        "print(\"Area = \", AREA)\n",
        "print(\"Base = \", PERIMETRO)"
      ],
      "execution_count": 19,
      "outputs": [
        {
          "output_type": "stream",
          "text": [
            "Dame el valor de la base del rectrangulo: 2\n",
            "Dame el valor de la altura del rectangulo: 4\n",
            "\n",
            "Base =  2.0\n",
            "Altura =  4.0\n",
            "Area =  8.0\n",
            "Base =  12.0\n"
          ],
          "name": "stdout"
        }
      ]
    }
  ]
}
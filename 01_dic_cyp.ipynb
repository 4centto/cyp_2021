{
  "nbformat": 4,
  "nbformat_minor": 0,
  "metadata": {
    "colab": {
      "name": "01_dic_cyp.ipynb",
      "provenance": [],
      "authorship_tag": "ABX9TyMA4SyuX0XHLZHY6irgfkgn",
      "include_colab_link": true
    },
    "kernelspec": {
      "name": "python3",
      "display_name": "Python 3"
    }
  },
  "cells": [
    {
      "cell_type": "markdown",
      "metadata": {
        "id": "view-in-github",
        "colab_type": "text"
      },
      "source": [
        "<a href=\"https://colab.research.google.com/github/4centto/cyp_2021/blob/main/01_dic_cyp.ipynb\" target=\"_parent\"><img src=\"https://colab.research.google.com/assets/colab-badge.svg\" alt=\"Open In Colab\"/></a>"
      ]
    },
    {
      "cell_type": "code",
      "metadata": {
        "colab": {
          "base_uri": "https://localhost:8080/"
        },
        "id": "LjB2M1-VS9hL",
        "outputId": "6b32c92d-8959-4912-dcbb-943176fe4bec"
      },
      "source": [
        "#Ejemplo 1\n",
        "#Pedir 3 numeros enteros y se debe de mostrar el mayor de los tres\n",
        "\n",
        "num1 = int(input(\"Dame el numero 1: \"))\n",
        "num2 = int(input(\"Dame el numero 2: \"))\n",
        "num3 = int(input(\"Dame el numero 3: \"))\n",
        "\n",
        "if num1 > num2 and num1 > num3:\n",
        "  print(\"El numero mayor es: \", num1)\n",
        "elif num2 > num3:\n",
        "  print(\"El numero mayor es: \", num2)\n",
        "else:\n",
        "  print(\"El numero mayor es: \", num3)"
      ],
      "execution_count": 6,
      "outputs": [
        {
          "output_type": "stream",
          "text": [
            "Dame el numero 1: 6\n",
            "Dame el numero 2: 8\n",
            "Dame el numero 3: 19\n",
            "El numero mayor es:  19\n"
          ],
          "name": "stdout"
        }
      ]
    },
    {
      "cell_type": "code",
      "metadata": {
        "colab": {
          "base_uri": "https://localhost:8080/"
        },
        "id": "A2m4IoZoVYrY",
        "outputId": "5f25184e-d9d6-4b8f-b0c1-cb11a6e47c53"
      },
      "source": [
        "#Ejemplo2\n",
        "print(\"Ingrese el nombre del trabajador:\", end=\" \")\n",
        "nombre = input(\"\")\n",
        "\n",
        "print(\"¿Cuantas horas trabajo \", nombre, \" en la semana?\", end=\" \")\n",
        "horas = int(input())\n",
        "\n",
        "print(\"¿Cuanto se paga por hora?\", end=\" \")\n",
        "sueldo = float(input())\n",
        "\n",
        "##Evaluar Horas\n",
        "if horas <= 40:\n",
        "  pago = horas * sueldo\n",
        "  print(\"El sueldo de \", nombre, \" es: $\", pago)\n",
        "\n",
        "else:\n",
        "  extras = horas - 40\n",
        "  pago = 40 * sueldo\n",
        "  pago = pago + ((extras * sueldo) * 2)\n",
        "  print(\"El sueldo final de \", nombre, \" es: $\", pago)"
      ],
      "execution_count": 10,
      "outputs": [
        {
          "output_type": "stream",
          "text": [
            "Ingrese el nombre del trabajador: Lucia\n",
            "¿Cuantas horas trabajo  Lucia  en la semana? 39\n",
            "¿Cuanto se paga por hora? 10\n",
            "El sueldo de  Lucia  es: $ 390.0\n"
          ],
          "name": "stdout"
        }
      ]
    },
    {
      "cell_type": "code",
      "metadata": {
        "colab": {
          "base_uri": "https://localhost:8080/"
        },
        "id": "AJViDl48ZAGu",
        "outputId": "005d2b25-b586-411d-cda8-2bb2a52359bb"
      },
      "source": [
        "#Ejemplo3\n",
        "#Calcular el salario semanal de x trabajador\n",
        "#El salario semanal se calcula en base a las horas semanales trabajadas\n",
        "#El pago por hora es variable (se pide por teclado)\n",
        "#Si las horas trabajadas superan las 40 horas, el pago por hora extra es: \n",
        "#Doble en el rango de 41 horas a 50 horas\n",
        "#Triple en el rango de 51 horas a 60 horas\n",
        "#Incentivo de 2000 si rebasa las 60 horas\n",
        "\n",
        "print(\"Ingrese el nombre del trabajador:\", end=\" \")\n",
        "nombre = input(\"\")\n",
        "\n",
        "print(\"¿Cuantas horas trabajo \", nombre, \" en la semana?\", end=\" \")\n",
        "horas = int(input())\n",
        "\n",
        "print(\"¿Cuanto se paga por hora?\", end=\" \")\n",
        "sueldo = float(input())\n",
        "\n",
        "##Evaluar Sueldo\n",
        "if horas <= 40:\n",
        "  pago = horas * sueldo\n",
        "  print(\"El sueldo del trabajado \", nombre, \" es: $\", pago)\n",
        "\n",
        "elif horas > 40 and horas <= 50:\n",
        "  extrasDobles = horas - 40\n",
        "  print(\"Horas extra dobles: \", extraDobles)\n",
        "  pago = sueldo * 40\n",
        "  print(\"Sueldo base de: $\", pago)\n",
        "  pagoDoble = extrasDobles * sueldo\n",
        "  print(\"Pago de horas dobles: $\", pagoDoble)\n",
        "  pagoFinal = pago + pagoDoble\n",
        "  print(\"PAGO FINAL: $\", pagoFinal)\n",
        "\n",
        "elif horas > 50 and horas <= 60:\n",
        "  extrasTriples = horas - 40\n",
        "  print(\"Horas extra dobles: \", extrasTriples)\n",
        "  pago = sueldo * 40\n",
        "  print(\"Sueldo base de: $\", pago)\n",
        "  pagoTriple = extrasTriples * sueldo\n",
        "  print(\"Pago de horas dobles: $\", pagoTriple)\n",
        "  pagoFinal = pago + pagoTriple\n",
        "  print(\"PAGO FINAL: $\", pagoFinal)\n",
        "\n",
        "elif horas > 60:\n",
        "  extrasTriples = horas - 50\n",
        "  print(\"Horas extras Dobles: 10\")\n",
        "  print(\"Horas extras Triples: \", extrasTriples)\n",
        "  pago = 40 * sueldo\n",
        "  print(\"Sueldo base: $\", pago)\n",
        "  pagoDoble = 10 * sueldo * 2\n",
        "  print(\"Pago de horas extras: $\", pagoDoble)\n",
        "  pagoTriple = extrasTriples * sueldo * 3\n",
        "  print(\"Pago de horas triples: $\", pagoTriple)\n",
        "  pagoFinal = pago + pagoDoble + pagoTriple\n",
        "  print(\"PAGO FINAL: $\", pagoFinal)\n",
        "\n",
        "else:\n",
        "  extrasTriples = 10\n",
        "  print(\"Horas extra dobles: 10\")\n",
        "  print(\"Horas extra triples: 10\")\n",
        "  pago = 40 * sueldo\n",
        "  print(\"Sueldo base: $\", pago)\n",
        "  pagoDoble = 10 * sueldo * 2\n",
        "  print(\"Pago de horas extra dobles: $\", pagoDoble)\n",
        "  pagoTriple = extrasTriples * sueldo * 3\n",
        "  print(\"Pago de horas extra triples: $\", pagoTriple)\n",
        "  print(\"Incentivo por trabajar mas de 60 horas: $2000\")\n",
        "  pagoFinal = pago + pagoDoble + pagoTriple + 2000\n",
        "  print(\"PAGO FINAL\", pagoFinal)"
      ],
      "execution_count": 21,
      "outputs": [
        {
          "output_type": "stream",
          "text": [
            "Ingrese el nombre del trabajador: Zet\n",
            "¿Cuantas horas trabajo  Zet  en la semana? 51\n",
            "¿Cuanto se paga por hora? 100\n",
            "Horas extra dobles:  11\n",
            "Sueldo base de: $ 4000.0\n",
            "Pago de horas dobles: $ 1100.0\n",
            "PAGO FINAL: $ 5100.0\n"
          ],
          "name": "stdout"
        }
      ]
    },
    {
      "cell_type": "code",
      "metadata": {
        "colab": {
          "base_uri": "https://localhost:8080/"
        },
        "id": "kVdAqALMoG-n",
        "outputId": "dbea0ff6-e31e-4c2f-a81d-b8a26a38e417"
      },
      "source": [
        "#Ejemplo 1\n",
        "#Estructura for\n",
        "\n",
        "for estaciones_año in [\"Primavera\", \"Verano\", \"Otoño\", \"Invierno\"]:\n",
        "  print(estaciones_año)\n",
        "\n",
        "#Variables que pueden formar parte de for es \"i\"\n"
      ],
      "execution_count": 23,
      "outputs": [
        {
          "output_type": "stream",
          "text": [
            "Primavera\n",
            "Verano\n",
            "Otoño\n",
            "Invierno\n"
          ],
          "name": "stdout"
        }
      ]
    }
  ]
}
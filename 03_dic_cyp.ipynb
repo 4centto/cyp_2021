{
  "nbformat": 4,
  "nbformat_minor": 0,
  "metadata": {
    "colab": {
      "name": "03_dic_cyp.ipynb",
      "provenance": [],
      "authorship_tag": "ABX9TyOk/6uajHki+MuHXkpkposr",
      "include_colab_link": true
    },
    "kernelspec": {
      "name": "python3",
      "display_name": "Python 3"
    }
  },
  "cells": [
    {
      "cell_type": "markdown",
      "metadata": {
        "id": "view-in-github",
        "colab_type": "text"
      },
      "source": [
        "<a href=\"https://colab.research.google.com/github/4centto/cyp_2021/blob/main/03_dic_cyp.ipynb\" target=\"_parent\"><img src=\"https://colab.research.google.com/assets/colab-badge.svg\" alt=\"Open In Colab\"/></a>"
      ]
    },
    {
      "cell_type": "code",
      "metadata": {
        "colab": {
          "base_uri": "https://localhost:8080/"
        },
        "id": "AlQhkYAhl36y",
        "outputId": "87808478-b592-4099-84bb-5b757c876b27"
      },
      "source": [
        "#Ejemplo 1\n",
        "for i in [1, 2, 3, 4, 5]:\n",
        "  print(f\"El elemento: {i}\")"
      ],
      "execution_count": 1,
      "outputs": [
        {
          "output_type": "stream",
          "text": [
            "El elemento: 1\n",
            "El elemento: 2\n",
            "El elemento: 3\n",
            "El elemento: 4\n",
            "El elemento: 5\n"
          ],
          "name": "stdout"
        }
      ]
    },
    {
      "cell_type": "code",
      "metadata": {
        "colab": {
          "base_uri": "https://localhost:8080/"
        },
        "id": "LeKnvhjNnPTZ",
        "outputId": "ebd963c4-f6a5-4f3f-fb3e-ef2b9d9abf1b"
      },
      "source": [
        "coleccion = [1, 2, 3, 4, 5]\n",
        "\n",
        "for i in coleccion:\n",
        "  print(i)"
      ],
      "execution_count": 4,
      "outputs": [
        {
          "output_type": "stream",
          "text": [
            "1\n",
            "2\n",
            "3\n",
            "4\n",
            "5\n"
          ],
          "name": "stdout"
        }
      ]
    },
    {
      "cell_type": "code",
      "metadata": {
        "id": "ZwCPUbGJnsMQ"
      },
      "source": [
        "#Ejemplo 2\n",
        "coleccion = {\"Mario\": 20, \"Mariana\": 19, \"Jessica\": 14, \"Luis\": 18} #Diccionario\n",
        "\n",
        "for i in coleccion:\n",
        "  print(f\"Elemento: {i}\")"
      ],
      "execution_count": null,
      "outputs": []
    },
    {
      "cell_type": "code",
      "metadata": {
        "colab": {
          "base_uri": "https://localhost:8080/"
        },
        "id": "NMIUSP1JouC3",
        "outputId": "d08010fb-e3fc-4077-c6b0-1f4bee0fd6ca"
      },
      "source": [
        "coleccion = {\"Mario\": 20, \"Mariana\": 19, \"Jessica\": 14, \"Luis\": 18} #Diccionario\n",
        "\n",
        "for i in coleccion:\n",
        "  print(f\"Elemento {i} {coleccion[i]} años\")"
      ],
      "execution_count": 11,
      "outputs": [
        {
          "output_type": "stream",
          "text": [
            "Elemento Mario 20 años\n",
            "Elemento Mariana 19 años\n",
            "Elemento Jessica 14 años\n",
            "Elemento Luis 18 años\n"
          ],
          "name": "stdout"
        }
      ]
    },
    {
      "cell_type": "code",
      "metadata": {
        "colab": {
          "base_uri": "https://localhost:8080/"
        },
        "id": "S0pXiDrVrZPZ",
        "outputId": "f3f895d4-c5bf-4b41-c454-fec0bf566eb2"
      },
      "source": [
        "coleccion = {\"Mario\": 20, \"Mariana\": 19, \"Jessica\": 14, \"Luis\": 18} #Diccionario\n",
        "\n",
        "for clave, valor in coleccion.items():\n",
        "  print(f\"{clave} -> {valor}\")"
      ],
      "execution_count": 12,
      "outputs": [
        {
          "output_type": "stream",
          "text": [
            "Mario -> 20\n",
            "Mariana -> 19\n",
            "Jessica -> 14\n",
            "Luis -> 18\n"
          ],
          "name": "stdout"
        }
      ]
    },
    {
      "cell_type": "code",
      "metadata": {
        "colab": {
          "base_uri": "https://localhost:8080/"
        },
        "id": "siYwSkxosGAR",
        "outputId": "e123cb94-b6d5-4b8f-8bd1-75b1ce52c114"
      },
      "source": [
        "#Ejemplo 3\n",
        "email = False\n",
        "for i in \"ariel@unam.mx\":\n",
        "\n",
        "  if i == \"@\":\n",
        "    email = True\n",
        "\n",
        "if email == True:\n",
        "  print(\"Si es un correo electronico\")\n",
        "else:\n",
        "  print(\"No es un correo electronico\")"
      ],
      "execution_count": 16,
      "outputs": [
        {
          "output_type": "stream",
          "text": [
            "Si es un correo electronico\n"
          ],
          "name": "stdout"
        }
      ]
    },
    {
      "cell_type": "code",
      "metadata": {
        "colab": {
          "base_uri": "https://localhost:8080/"
        },
        "id": "0x6f9BKPtjQJ",
        "outputId": "f85ea47b-eb8e-4e2d-d8bf-213e3f04f40a"
      },
      "source": [
        "email = False\n",
        "miEmail = input(\"Dame tu correo electronico: \")\n",
        "\n",
        "for i in miEmail:\n",
        "  if i == \"@\":\n",
        "    email = True\n",
        "\n",
        "if email == True:\n",
        "  print(\"Tu email es correcto\")\n",
        "else:\n",
        "  print(\"Tu email no es correcto\")"
      ],
      "execution_count": 19,
      "outputs": [
        {
          "output_type": "stream",
          "text": [
            "Dame tu correo electronico: ivangarcia080902gmail.com\n",
            "Tu email no es correcto\n"
          ],
          "name": "stdout"
        }
      ]
    },
    {
      "cell_type": "code",
      "metadata": {
        "colab": {
          "base_uri": "https://localhost:8080/"
        },
        "id": "nMa5hBBbu7hA",
        "outputId": "4025437b-7e96-4ca4-87c7-1eb5a685a99a"
      },
      "source": [
        "#For-Range\n",
        "\n",
        "for i in range(5):\n",
        "  print(f\"Hola {i}\")"
      ],
      "execution_count": 22,
      "outputs": [
        {
          "output_type": "stream",
          "text": [
            "Hola 0\n",
            "Hola 1\n",
            "Hola 2\n",
            "Hola 3\n",
            "Hola 4\n"
          ],
          "name": "stdout"
        }
      ]
    },
    {
      "cell_type": "code",
      "metadata": {
        "colab": {
          "base_uri": "https://localhost:8080/"
        },
        "id": "I6iHQ3pGwTQI",
        "outputId": "3045ca6d-d7c2-4847-bb72-9ac8b8777ebc"
      },
      "source": [
        "for i in range(20):\n",
        "  print(f\"Valor de la variable: {i}\")"
      ],
      "execution_count": 30,
      "outputs": [
        {
          "output_type": "stream",
          "text": [
            "Valor de la variable: 0\n",
            "Valor de la variable: 1\n",
            "Valor de la variable: 2\n",
            "Valor de la variable: 3\n",
            "Valor de la variable: 4\n",
            "Valor de la variable: 5\n",
            "Valor de la variable: 6\n",
            "Valor de la variable: 7\n",
            "Valor de la variable: 8\n",
            "Valor de la variable: 9\n",
            "Valor de la variable: 10\n",
            "Valor de la variable: 11\n",
            "Valor de la variable: 12\n",
            "Valor de la variable: 13\n",
            "Valor de la variable: 14\n",
            "Valor de la variable: 15\n",
            "Valor de la variable: 16\n",
            "Valor de la variable: 17\n",
            "Valor de la variable: 18\n",
            "Valor de la variable: 19\n"
          ],
          "name": "stdout"
        }
      ]
    },
    {
      "cell_type": "code",
      "metadata": {
        "colab": {
          "base_uri": "https://localhost:8080/"
        },
        "id": "ivGVndchxWvo",
        "outputId": "9c3b3a58-c0e1-4653-cd2b-56c2e29bb0d4"
      },
      "source": [
        "#While ejemplos\n",
        "#Ejemplo 1\n",
        "\n",
        "i = 1\n",
        "\n",
        "while i <= 10:\n",
        "  print(\"Ejecucion: \" + str(i))"
      ],
      "execution_count": 35,
      "outputs": [
        {
          "output_type": "stream",
          "text": [
            "Ejecucion: 1\n",
            "Ejecucion: 2\n",
            "Ejecucion: 3\n",
            "Ejecucion: 4\n",
            "Ejecucion: 5\n",
            "Ejecucion: 6\n",
            "Ejecucion: 7\n",
            "Ejecucion: 8\n",
            "Ejecucion: 9\n",
            "Ejecucion: 10\n"
          ],
          "name": "stdout"
        }
      ]
    },
    {
      "cell_type": "code",
      "metadata": {
        "colab": {
          "base_uri": "https://localhost:8080/"
        },
        "id": "DshdVv-pz2oj",
        "outputId": "aa0bf766-9a39-4270-d0a8-bb155b2ccbde"
      },
      "source": [
        "i = 1\n",
        "\n",
        "while i <= 10:\n",
        "  print(\"Ejemplo: \" + str(i))\n",
        "  \n",
        "  i += 1 # Contador, es decir, incrementa en uno la variable que se esta validando en la condicional del while"
      ],
      "execution_count": 36,
      "outputs": [
        {
          "output_type": "stream",
          "text": [
            "Ejemplo: 1\n",
            "Ejemplo: 2\n",
            "Ejemplo: 3\n",
            "Ejemplo: 4\n",
            "Ejemplo: 5\n",
            "Ejemplo: 6\n",
            "Ejemplo: 7\n",
            "Ejemplo: 8\n",
            "Ejemplo: 9\n",
            "Ejemplo: 10\n"
          ],
          "name": "stdout"
        }
      ]
    },
    {
      "cell_type": "code",
      "metadata": {
        "colab": {
          "base_uri": "https://localhost:8080/"
        },
        "id": "4Igt7lwI0i0j",
        "outputId": "d4787211-efe6-487c-9bc1-b0a0b15495bb"
      },
      "source": [
        "edad = int(input(\"Introduce tu edad: \"))\n",
        "\n",
        "while edad < 0:\n",
        "  print(\"Has introducido una edad negativa. Intentalo de nuevo.\")\n",
        "  edad = int(input(\"Introduce nuevamente tu edad: \"))\n",
        "\n",
        "print(\"Gracias por participar\")\n",
        "print(\"Edad del aspirante: \" + str(edad))"
      ],
      "execution_count": 37,
      "outputs": [
        {
          "output_type": "stream",
          "text": [
            "Introduce tu edad: -9\n",
            "Has introducido una edad negativa. Intentalo de nuevo.\n",
            "Introduce nuevamente tu edad: -4\n",
            "Has introducido una edad negativa. Intentalo de nuevo.\n",
            "Introduce nuevamente tu edad: 18\n",
            "Gracias por participar\n",
            "Edad del aspirante: 18\n"
          ],
          "name": "stdout"
        }
      ]
    },
    {
      "cell_type": "code",
      "metadata": {
        "id": "1qtoacJX1z1C"
      },
      "source": [
        "edad = int(input(\"Introduce tu edad: \"))\n",
        "\n",
        "while edad  > 10 or edad <= 100:\n",
        "  print(\"Has introducido una edad negativa. Intentalo de nuevo.\")\n",
        "  edad = int(input(\"Introduce nuevamente tu edad: \"))\n",
        "\n",
        "print(\"Gracias por participar\")\n",
        "print(\"Edad del aspirante: \" + str(edad))"
      ],
      "execution_count": null,
      "outputs": []
    }
  ]
}
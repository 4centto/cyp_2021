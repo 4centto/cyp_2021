{
  "nbformat": 4,
  "nbformat_minor": 0,
  "metadata": {
    "colab": {
      "name": "Tarea7_cyp.ipynb",
      "provenance": [],
      "authorship_tag": "ABX9TyOm7c36tfhZ4V/rmg+UkjuU",
      "include_colab_link": true
    },
    "kernelspec": {
      "name": "python3",
      "display_name": "Python 3"
    }
  },
  "cells": [
    {
      "cell_type": "markdown",
      "metadata": {
        "id": "view-in-github",
        "colab_type": "text"
      },
      "source": [
        "<a href=\"https://colab.research.google.com/github/4centto/cyp_2021/blob/main/Tarea7_cyp.ipynb\" target=\"_parent\"><img src=\"https://colab.research.google.com/assets/colab-badge.svg\" alt=\"Open In Colab\"/></a>"
      ]
    },
    {
      "cell_type": "code",
      "metadata": {
        "id": "JLeDxdBC6Z6h"
      },
      "source": [
        "#Problema 4.11\r\n",
        "#Primero se crean los arreglos que estaran recibiendo los datos de los paises\r\n",
        "#Se piden las cantidades de los paises\r\n",
        "N_norte = int(input(\"¿Cuantos paises del norte seran ingresados?  \"))\r\n",
        "N_centro = int(input(\"¿Cuantos paises del centro seran ingresados?  \"))\r\n",
        "N_sur = int(input(\"¿Cuantos paises del sur seran ingresados?  \"))\r\n",
        "\r\n",
        "NOR = [\"\" for i in range(N_norte)]\r\n",
        "CEN = [\"\" for i in range(N_centro)]\r\n",
        "SUR = [\"\" for i in range(N_sur)]\r\n",
        "AMERICA = [] #Se crea el arreglo para todos los paises\r\n",
        "\r\n",
        "#Llenado de los arreglos\r\n",
        "for i in range(len(NOR)):\r\n",
        "    print(\"Dame nombre el pais N°\", (i + 1), \" del Norte:\", end=\" \")\r\n",
        "    NOR[i] = input()\r\n",
        "\r\n",
        "for i in range(len(CEN)):\r\n",
        "    print(\"Dame nombre el pais N°\", (i + 1), \" del Centro:\", end=\" \")\r\n",
        "    CEN[i] = input()\r\n",
        "\r\n",
        "for i in range(len(SUR)):\r\n",
        "    print(\"Dame nombre el pais N°\", (i + 1), \" del Sur:\", end=\" \")\r\n",
        "    SUR[i] = input()\r\n",
        "\r\n",
        "#Impresion de los arreglos ordenados independientemente\r\n",
        "NOR.sort()\r\n",
        "CEN.sort()\r\n",
        "SUR.sort()\r\n",
        "\r\n",
        "print()\r\n",
        "print(\"Norteamerica: \", end=\"\")\r\n",
        "print(NOR)\r\n",
        "print(\"Centroamerica: \", end=\"\")\r\n",
        "print(CEN)\r\n",
        "print(\"Sudamerica: \", end=\"\")\r\n",
        "print(SUR)\r\n",
        "\r\n",
        "#Se llena el arreglo america con los demas arreglos\r\n",
        "for i in range(len(NOR)):\r\n",
        "    AMERICA.append(NOR[i])\r\n",
        "\r\n",
        "for i in range(len(CEN)):\r\n",
        "    AMERICA.append(CEN[i])\r\n",
        "\r\n",
        "for i in range(len(SUR)):\r\n",
        "    AMERICA.append(SUR[i])\r\n",
        "\r\n",
        "#Se imprime ya una vez ordenada\r\n",
        "AMERICA.sort()\r\n",
        "\r\n",
        "print()\r\n",
        "print(\"America: \", end=\"\")\r\n",
        "print(AMERICA)"
      ],
      "execution_count": null,
      "outputs": []
    }
  ]
}